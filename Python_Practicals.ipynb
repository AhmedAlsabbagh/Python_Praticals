{
  "cells": [
    {
      "cell_type": "markdown",
      "metadata": {
        "id": "y1KUJgB3qQIJ"
      },
      "source": [
        "# Hello World"
      ]
    },
    {
      "cell_type": "code",
      "execution_count": null,
      "metadata": {
        "scrolled": true,
        "colab": {
          "base_uri": "https://localhost:8080/"
        },
        "id": "tpK86lSkqQIL",
        "outputId": "df359cc1-5476-4fdc-f6b7-a78e309e2499"
      },
      "outputs": [
        {
          "output_type": "stream",
          "name": "stdout",
          "text": [
            "hello world\n",
            "hello \"\" world\n"
          ]
        }
      ],
      "source": [
        "print (\"hello world\") # Generate \"hello world\".\n",
        "print('hello \"\" world') # Generate \"hello world\". The output is the same when single and double quotation marks are carried in input."
      ]
    },
    {
      "cell_type": "markdown",
      "metadata": {
        "id": "OfETqCH1qQIN"
      },
      "source": [
        "# Data Type"
      ]
    },
    {
      "cell_type": "markdown",
      "metadata": {
        "id": "VjD-j8rfqQIN"
      },
      "source": [
        "## number"
      ]
    },
    {
      "cell_type": "code",
      "execution_count": null,
      "metadata": {
        "scrolled": true,
        "id": "N1REowInqQIN",
        "outputId": "750a500f-0ae9-4c05-feac-96dcb11356a8",
        "colab": {
          "base_uri": "https://localhost:8080/"
        }
      },
      "outputs": [
        {
          "output_type": "stream",
          "name": "stdout",
          "text": [
            "1\n",
            "True\n",
            "2\n",
            "1\n",
            "9\n",
            "10.6\n"
          ]
        }
      ],
      "source": [
        "print(True+False)# The output is 1. By default, True indicates 1, and False indicates 0.\n",
        "print(True or False)# If True is displayed, enter or or perform the OR operation.\n",
        "print(5//2)# The output is 2, and // is the rounding operator. \n",
        "print(5%2)# The output is 1, and % is the modulo operator.  \n",
        "print(3**2) # The output is 9, and ** indicates the power operation. \n",
        "print(6+4.6) # The output is 6.6. By default, the sum of numbers of different precisions is the number of the highest precision type."
      ]
    },
    {
      "cell_type": "markdown",
      "metadata": {
        "id": "si0xNm8IqQIO"
      },
      "source": [
        "# Experimental Operations on lists"
      ]
    },
    {
      "cell_type": "markdown",
      "metadata": {
        "id": "krsZyxfcqQIO"
      },
      "source": [
        "### Check if the list is empty"
      ]
    },
    {
      "cell_type": "code",
      "execution_count": null,
      "metadata": {
        "id": "ZvbxCiuRqQIO",
        "outputId": "6688cdda-6c4b-446b-fa7d-fb3dca710268"
      },
      "outputs": [
        {
          "name": "stdout",
          "output_type": "stream",
          "text": [
            "empty list\n"
          ]
        }
      ],
      "source": [
        "#python \n",
        "items=[]\n",
        "if len(items) == 0:\n",
        "    print(\"empty list\")\n",
        "else:\n",
        "    print(\"It is not empty list\")"
      ]
    },
    {
      "cell_type": "code",
      "execution_count": null,
      "metadata": {
        "id": "7TyVtdajqQIP",
        "outputId": "2d036bf4-1cd4-4513-cd69-f42a3f43045c"
      },
      "outputs": [
        {
          "name": "stdout",
          "output_type": "stream",
          "text": [
            "empty list\n"
          ]
        }
      ],
      "source": [
        "#or\n",
        "if items == []:\n",
        "    print(\"empty list\")"
      ]
    },
    {
      "cell_type": "markdown",
      "metadata": {
        "id": "QaQRwsRtqQIP"
      },
      "source": [
        "### Copy a list."
      ]
    },
    {
      "cell_type": "code",
      "execution_count": null,
      "metadata": {
        "id": "ViwuZ5DCqQIP",
        "outputId": "4014a887-bdad-4fb0-c5ee-ca0b0af60949",
        "colab": {
          "base_uri": "https://localhost:8080/"
        }
      },
      "outputs": [
        {
          "output_type": "stream",
          "name": "stdout",
          "text": [
            "['hello', 'Jeary']\n",
            "['hello', 'Jeary', 'ali']\n"
          ]
        }
      ],
      "source": [
        "#Method one:\n",
        "old_list=[\"hello\",\"Jeary\",'ali']\n",
        "print(old_list[:2])\n",
        "print(old_list)"
      ]
    },
    {
      "cell_type": "code",
      "execution_count": null,
      "metadata": {
        "id": "P1hK4sbbqQIQ",
        "outputId": "518a2e70-7b09-49f7-a304-1287bf6543d4",
        "colab": {
          "base_uri": "https://localhost:8080/"
        }
      },
      "outputs": [
        {
          "output_type": "stream",
          "name": "stdout",
          "text": [
            "[5, 3, 7, 9, 2, 15]\n"
          ]
        }
      ],
      "source": [
        "x=[5,3,7,9,2,15]\n",
        "print(x[:8])"
      ]
    },
    {
      "cell_type": "code",
      "execution_count": null,
      "metadata": {
        "id": "UBMZWbiiqQIQ",
        "outputId": "5789aaa9-4376-4c7f-8e3c-713ae45e47e5",
        "colab": {
          "base_uri": "https://localhost:8080/"
        }
      },
      "outputs": [
        {
          "output_type": "stream",
          "name": "stdout",
          "text": [
            "['hello', 'Jeary', 'ali']\n",
            "['hello', 'Jeary', 'ali']\n",
            "['hello', 'Jeary', 'ali', 'ahmed']\n",
            "['hello', 'Jeary', 'ali']\n"
          ]
        }
      ],
      "source": [
        "new_list = old_list[:]\n",
        "print(new_list)\n",
        "print(old_list)\n",
        "new_list.append('ahmed')\n",
        "print(new_list)\n",
        "print(old_list)"
      ]
    },
    {
      "cell_type": "code",
      "execution_count": null,
      "metadata": {
        "id": "IDaaI5GXqQIQ",
        "outputId": "955f6bb1-0e54-4763-ef11-10a07faa81e6"
      },
      "outputs": [
        {
          "data": {
            "text/plain": [
              "'Jeary'"
            ]
          },
          "execution_count": 19,
          "metadata": {},
          "output_type": "execute_result"
        }
      ],
      "source": [
        "old_list[1]"
      ]
    },
    {
      "cell_type": "code",
      "execution_count": null,
      "metadata": {
        "id": "4OW6sYUFqQIQ",
        "colab": {
          "base_uri": "https://localhost:8080/"
        },
        "outputId": "254ba18b-84cd-4e93-85ec-fc9942671cb2"
      },
      "outputs": [
        {
          "output_type": "stream",
          "name": "stdout",
          "text": [
            "['hello', 'Jeary', 'ali']\n",
            "['hello', 'Jeary', 'ali', 4]\n",
            "['hello', 'Jeary', 'ali']\n"
          ]
        }
      ],
      "source": [
        "#Method two:\n",
        "new_list = list(old_list)\n",
        "print(new_list)\n",
        "new_list.append(4)\n",
        "print(new_list)\n",
        "print(old_list)\n"
      ]
    },
    {
      "cell_type": "code",
      "execution_count": null,
      "metadata": {
        "id": "fla8ybSAqQIR"
      },
      "outputs": [],
      "source": [
        "#Method three:\n",
        "from copy import copy #module class copy function\n",
        "#import copy # class functions + variables  copy class function copy "
      ]
    },
    {
      "cell_type": "code",
      "execution_count": null,
      "metadata": {
        "id": "_vMTv7nqqQIR",
        "outputId": "0cc41f8a-873d-42dd-e6df-001c65fb0945"
      },
      "outputs": [
        {
          "name": "stdout",
          "output_type": "stream",
          "text": [
            "['hello', 'Jeary', 'ali', 'ahmed']\n"
          ]
        }
      ],
      "source": [
        "new_list1 = copy(old_list)# copy\n",
        "print(new_list1)"
      ]
    },
    {
      "cell_type": "markdown",
      "metadata": {
        "id": "9Mg_6HUHqQIR"
      },
      "source": [
        "### Get the last element of a list.\n",
        "Elements in an index list can be positive or negative numbers. Positive numbers mean indexing from the left of list, while negative numbers mean indexing from the right of list. There are two methods to get the last element.\n"
      ]
    },
    {
      "cell_type": "code",
      "execution_count": null,
      "metadata": {
        "id": "VcllCCBcqQIR",
        "outputId": "1cd750c9-636c-46ed-8e8b-056e4e348f95"
      },
      "outputs": [
        {
          "name": "stdout",
          "output_type": "stream",
          "text": [
            "the length of the list 10\n"
          ]
        },
        {
          "data": {
            "text/plain": [
              "100"
            ]
          },
          "execution_count": 27,
          "metadata": {},
          "output_type": "execute_result"
        }
      ],
      "source": [
        "a = [1, 2, 3, 4, 5, 6, 7, 8, 9, 100]\n",
        "print(\"the length of the list\",len(a))\n",
        "\n",
        "a[len(a)-1]"
      ]
    },
    {
      "cell_type": "code",
      "execution_count": null,
      "metadata": {
        "id": "3BWgNQqGqQIS",
        "outputId": "ef335b7a-8328-46b8-c724-fc1681fb3bc3"
      },
      "outputs": [
        {
          "data": {
            "text/plain": [
              "100"
            ]
          },
          "execution_count": 28,
          "metadata": {},
          "output_type": "execute_result"
        }
      ],
      "source": [
        "a[-1]"
      ]
    },
    {
      "cell_type": "markdown",
      "metadata": {
        "id": "yEeTqdaOqQIS"
      },
      "source": [
        "### Sort lists.\n",
        "You can use two ways to sort lists. Python lists have a sort method and a built-in function (sorted). You can sort complicated data types by specifying key arguments. You can sort lists composed of dictionaries according to the age fields of elements in the dictionaries."
      ]
    },
    {
      "cell_type": "code",
      "execution_count": null,
      "metadata": {
        "id": "ZkMCub0UqQIS",
        "colab": {
          "base_uri": "https://localhost:8080/"
        },
        "outputId": "13416bce-b62e-4949-e8d6-ed3c0b69e491"
      },
      "outputs": [
        {
          "output_type": "stream",
          "name": "stdout",
          "text": [
            "[{'name': 'Bart', 'age': 10}, {'name': 'cater', 'age': 20}, {'name': 'Homer', 'age': 39}]\n"
          ]
        }
      ],
      "source": [
        "items = [{'name': 'Homer', 'age': 39},{'name': 'Bart', 'age': 10},{\"name\": 'cater', 'age': 20}]\n",
        "items.sort(key=lambda item: item.get(\"age\"))\n",
        "print(items)"
      ]
    },
    {
      "cell_type": "code",
      "execution_count": null,
      "metadata": {
        "id": "llwxzcwNqQIS"
      },
      "outputs": [],
      "source": [
        "help(items.sort)"
      ]
    },
    {
      "cell_type": "markdown",
      "metadata": {
        "id": "w4RQFTv1qQIT"
      },
      "source": [
        "### Remove elements from a list.\n",
        "The \"remove\" method removes an element, and it removes only the element that appears for the first time."
      ]
    },
    {
      "cell_type": "code",
      "execution_count": null,
      "metadata": {
        "id": "YCksnKpJqQIT",
        "outputId": "2d7d6486-0afe-4171-bd95-69e7b61d6e00",
        "colab": {
          "base_uri": "https://localhost:8080/"
        }
      },
      "outputs": [
        {
          "output_type": "stream",
          "name": "stdout",
          "text": [
            "[0, 3, 2, 2, 3, 'ali']\n",
            "[0, 3, 2, 3, 'ali']\n"
          ]
        }
      ],
      "source": [
        "a = [0, 2, 2, 3]\n",
        "a.append('ali')\n",
        "a.insert(1,3)\n",
        "print(a)\n",
        "a.remove(2)\n",
        "print(a)\n",
        "\n",
        "\n",
        "\n"
      ]
    },
    {
      "cell_type": "code",
      "execution_count": null,
      "metadata": {
        "id": "VkbZBwnCqQIT",
        "outputId": "e0d6546a-47e0-4f4d-bdda-cb3fc77d8d01"
      },
      "outputs": [
        {
          "name": "stdout",
          "output_type": "stream",
          "text": [
            "3\n",
            "2\n",
            "2\n",
            "0\n"
          ]
        }
      ],
      "source": [
        "a = [0, 2, 2, 3]\n",
        "\n",
        "for i in range(len(a)-1,-1,-1):\n",
        "    \n",
        "    print(a[i])"
      ]
    },
    {
      "cell_type": "markdown",
      "metadata": {
        "id": "kZWoljUNqQIU"
      },
      "source": [
        "# type(a)"
      ]
    },
    {
      "cell_type": "code",
      "execution_count": null,
      "metadata": {
        "id": "hUPSCfa2qQIU",
        "outputId": "576e21be-ceed-491e-cf18-3c9f4d44c5f9",
        "colab": {
          "base_uri": "https://localhost:8080/",
          "height": 187
        }
      },
      "outputs": [
        {
          "output_type": "error",
          "ename": "ValueError",
          "evalue": "ignored",
          "traceback": [
            "\u001b[0;31m---------------------------------------------------------------------------\u001b[0m",
            "\u001b[0;31mValueError\u001b[0m                                Traceback (most recent call last)",
            "\u001b[0;32m<ipython-input-8-51fee2001d59>\u001b[0m in \u001b[0;36m<cell line: 2>\u001b[0;34m()\u001b[0m\n\u001b[1;32m      1\u001b[0m \u001b[0;31m# ValueError will be returned if the removed element is not within the list.\u001b[0m\u001b[0;34m\u001b[0m\u001b[0;34m\u001b[0m\u001b[0m\n\u001b[0;32m----> 2\u001b[0;31m \u001b[0ma\u001b[0m\u001b[0;34m.\u001b[0m\u001b[0mremove\u001b[0m\u001b[0;34m(\u001b[0m\u001b[0;36m7\u001b[0m\u001b[0;34m)\u001b[0m\u001b[0;34m\u001b[0m\u001b[0;34m\u001b[0m\u001b[0m\n\u001b[0m",
            "\u001b[0;31mValueError\u001b[0m: list.remove(x): x not in list"
          ]
        }
      ],
      "source": [
        "# ValueError will be returned if the removed element is not within the list.\n",
        "a.remove(7)"
      ]
    },
    {
      "cell_type": "markdown",
      "metadata": {
        "id": "JuLIvDCPqQIU"
      },
      "source": [
        "### Connect two lists."
      ]
    },
    {
      "cell_type": "code",
      "execution_count": null,
      "metadata": {
        "id": "vfkLrND-qQIV",
        "outputId": "04bf4ece-cab0-454d-b285-0f508c933e32",
        "colab": {
          "base_uri": "https://localhost:8080/"
        }
      },
      "outputs": [
        {
          "output_type": "stream",
          "name": "stdout",
          "text": [
            "[1, 2, 3, 4, 5, 6]\n"
          ]
        }
      ],
      "source": [
        "listone = [1, 2, 3]\n",
        "listtwo = [4, 5, 6]\n",
        "mergedlist = listone + listtwo\n",
        "print(mergedlist)\n"
      ]
    },
    {
      "cell_type": "code",
      "execution_count": null,
      "metadata": {
        "id": "nTzlwxx6qQIV",
        "outputId": "1a463d86-cda4-46ed-e383-88b9aca190c8",
        "colab": {
          "base_uri": "https://localhost:8080/"
        }
      },
      "outputs": [
        {
          "output_type": "stream",
          "name": "stdout",
          "text": [
            "[1, 2, 3, 4, 5, 6]\n",
            "[4, 5, 6]\n"
          ]
        }
      ],
      "source": [
        "#print(mergedlist)\n",
        "listone.extend(listtwo)\n",
        "print(listone)\n",
        "print(listtwo)\n"
      ]
    },
    {
      "cell_type": "markdown",
      "metadata": {
        "id": "tFSvBDPVqQIV"
      },
      "source": [
        "# Experimental Operations on Tuples"
      ]
    },
    {
      "cell_type": "code",
      "execution_count": null,
      "metadata": {
        "id": "sYeyCxrdqQIV",
        "outputId": "de1bf72d-95f1-4d91-87b5-5ecf16308809",
        "colab": {
          "base_uri": "https://localhost:8080/"
        }
      },
      "outputs": [
        {
          "output_type": "stream",
          "name": "stdout",
          "text": [
            "[1, 2, 3, 4, 5, 6, [1, 23, 3]]\n",
            "7\n"
          ]
        }
      ],
      "source": [
        "listone.append([1,23,3])\n",
        "print(listone)\n",
        "print(len(listone))\n",
        "\n"
      ]
    },
    {
      "cell_type": "code",
      "execution_count": null,
      "metadata": {
        "id": "7NAJ48pdqQIV",
        "outputId": "060b572c-d856-411d-973f-bd107af78177",
        "colab": {
          "base_uri": "https://localhost:8080/"
        }
      },
      "outputs": [
        {
          "output_type": "execute_result",
          "data": {
            "text/plain": [
              "23"
            ]
          },
          "metadata": {},
          "execution_count": 23
        }
      ],
      "source": [
        "listone[6][1]"
      ]
    },
    {
      "cell_type": "markdown",
      "metadata": {
        "id": "uLPWwpm_qQIW"
      },
      "source": [
        "This section describes related operations on tuples.  \n",
        "Another type of ordered lists is called tuples and is expressed in(). Similar to a list, a tuple cannot be changed after being initialized. Elements must be determined when a tuple is defined.  \n",
        "A tuple has no append() and insert() methods and cannot be assigned as another element. The method for getting a tuple is similar to that for getting a list.  \n",
        "As tuples are unchangeable, code is more secure. Therefore, if possible, use tuples instead of lists.  \n"
      ]
    },
    {
      "cell_type": "markdown",
      "metadata": {
        "id": "yuL5zXpEqQIW"
      },
      "source": [
        "## Define a tuple for an element."
      ]
    },
    {
      "cell_type": "code",
      "execution_count": null,
      "metadata": {
        "id": "ou61J4WTqQIW",
        "outputId": "d81077b3-d81b-4f82-cccd-bdee633bb0a5"
      },
      "outputs": [
        {
          "name": "stdout",
          "output_type": "stream",
          "text": [
            "(1, 5, 'hello')\n"
          ]
        }
      ],
      "source": [
        "t=(1,5,'hello')\n",
        "print(t)"
      ]
    },
    {
      "cell_type": "code",
      "execution_count": null,
      "metadata": {
        "id": "6d9z-CUdqQIW",
        "outputId": "0084617d-b5ef-494d-ac32-41ccd4daca7e"
      },
      "outputs": [
        {
          "data": {
            "text/plain": [
              "tuple"
            ]
          },
          "execution_count": 47,
          "metadata": {},
          "output_type": "execute_result"
        }
      ],
      "source": [
        "type(t)"
      ]
    },
    {
      "cell_type": "code",
      "execution_count": null,
      "metadata": {
        "id": "euXclvZmqQIX"
      },
      "outputs": [],
      "source": [
        "t2=(1,)\n",
        "t3=1\n",
        "t4=3,4,8"
      ]
    },
    {
      "cell_type": "code",
      "execution_count": null,
      "metadata": {
        "id": "OzawhEmpqQIn",
        "outputId": "0ae6d712-ad7c-49b1-fbfd-65773be7ab24"
      },
      "outputs": [
        {
          "name": "stdout",
          "output_type": "stream",
          "text": [
            "<class 'tuple'>\n",
            "<class 'int'>\n",
            "<class 'tuple'>\n"
          ]
        }
      ],
      "source": [
        "print(type(t2))\n",
        "print(type(t3))\n",
        "print(type(t4))"
      ]
    },
    {
      "cell_type": "markdown",
      "metadata": {
        "id": "Pk_wEwKPqQIn"
      },
      "source": [
        "Note: In t=(1), t is not a tuple type, as the parentheses () can represent a tuple, or mathematical formula. Python stipulates that in this case, () is a mathematical formula, and a tuple with only one element must have a comma to eliminate ambiguity."
      ]
    },
    {
      "cell_type": "markdown",
      "metadata": {
        "id": "47O2p39tqQIo"
      },
      "source": [
        "## Define a 'changeable tuple'."
      ]
    },
    {
      "cell_type": "code",
      "execution_count": null,
      "metadata": {
        "id": "oIk-j8i0qQIo",
        "outputId": "fdfb2ef4-6753-4dbb-d28e-2566f3487d89",
        "colab": {
          "base_uri": "https://localhost:8080/"
        }
      },
      "outputs": [
        {
          "output_type": "stream",
          "name": "stdout",
          "text": [
            "['ali', ('yi', 'er', 'san'), ('one', 'two', 'three'), (1, 2, 3), [1.1, 2.2], 'language']\n"
          ]
        }
      ],
      "source": [
        "cn=('yi','er','san')\n",
        "en=('one','two','three')\n",
        "num=(1,2,3)\n",
        "x='ali'\n",
        "tmp=[x,cn,en,num,[1.1,2.2],'language']\n",
        "print(tmp)"
      ]
    },
    {
      "cell_type": "code",
      "execution_count": null,
      "metadata": {
        "id": "dN6CFlgEqQIp",
        "outputId": "841679ab-c711-4067-8037-66c8e3523652",
        "colab": {
          "base_uri": "https://localhost:8080/"
        }
      },
      "outputs": [
        {
          "output_type": "stream",
          "name": "stdout",
          "text": [
            "('yi', 'er', 'san')\n"
          ]
        }
      ],
      "source": [
        "print(tmp[1])"
      ]
    },
    {
      "cell_type": "code",
      "execution_count": null,
      "metadata": {
        "id": "mRaL0dETqQIp",
        "outputId": "70f1b965-5aab-4ddc-bb1b-b3eaf12cfc55",
        "colab": {
          "base_uri": "https://localhost:8080/"
        }
      },
      "outputs": [
        {
          "output_type": "stream",
          "name": "stdout",
          "text": [
            "yi\n"
          ]
        }
      ],
      "source": [
        "print(tmp[1][0])"
      ]
    },
    {
      "cell_type": "code",
      "execution_count": null,
      "metadata": {
        "id": "ysPRup7sqQIp",
        "outputId": "aedd7e6a-dced-47fd-f3ca-4767cfe0f5f1"
      },
      "outputs": [
        {
          "name": "stdout",
          "output_type": "stream",
          "text": [
            "i\n"
          ]
        }
      ],
      "source": [
        "print(tmp[1][0][1])"
      ]
    },
    {
      "cell_type": "markdown",
      "metadata": {
        "id": "g3zvIaKKqQIq"
      },
      "source": [
        "# Dictionaries\n",
        "This experiment mainly introduces related knowledge units about dictionaries in Python, and related operations on them.  \n",
        "\t*Python dictionary. A dictionary has a data structure similar to a mobile phone list, which lists names and their associated information. In a dictionary, the name is called a \"key\", and its associated information is called \"value\". A dictionary is a combination of keys and values.  \n",
        "\t*Its basic format is as follows:  \n",
        "                                           d = {key1 : value1, key2 : value2 }  \n",
        "\t*You can separate a key and a value with a colon, separate each key/value pair with a comma, and include the dictionary in a brace.  \n",
        "\t*Some notes about keys in a dictionary: Keys must be unique, and must be simple objects like strings, integers, floating numbers, and bool values.   "
      ]
    },
    {
      "cell_type": "markdown",
      "metadata": {
        "id": "xgNTkR0nqQIq"
      },
      "source": [
        "## Create a dictionary\n",
        "A dictionary can be created in multiple manners, as shown below."
      ]
    },
    {
      "cell_type": "code",
      "execution_count": null,
      "metadata": {
        "scrolled": true,
        "id": "17HjlSckqQIq"
      },
      "outputs": [],
      "source": [
        "a = {'one': 1,'two': 2, 'three': 3}\n",
        "print(a)"
      ]
    },
    {
      "cell_type": "code",
      "execution_count": null,
      "metadata": {
        "id": "hlIGZkYHqQIr"
      },
      "outputs": [],
      "source": [
        "b = dict(one=1, two=2, three=3)\n",
        "print(b)"
      ]
    },
    {
      "cell_type": "code",
      "execution_count": null,
      "metadata": {
        "id": "1VTUAQAfqQIr"
      },
      "outputs": [],
      "source": [
        "c = dict([('one', 1), ('two', 2), ('three', 3)])\n",
        "print(c)"
      ]
    },
    {
      "cell_type": "code",
      "execution_count": null,
      "metadata": {
        "id": "13rHhEZJqQIr"
      },
      "outputs": [],
      "source": [
        "d = dict(zip(['one', 'two', 'three'], [1, 2, 3]))\n",
        "print(d)"
      ]
    },
    {
      "cell_type": "code",
      "execution_count": null,
      "metadata": {
        "id": "4cLzlM5tqQIs"
      },
      "outputs": [],
      "source": [
        "e = dict({'one': 1, 'two': 2, 'three': 3})\n",
        "print(e)"
      ]
    },
    {
      "cell_type": "code",
      "execution_count": null,
      "metadata": {
        "id": "Akn72DBWqQIs"
      },
      "outputs": [],
      "source": [
        "print(a==b==c==d==e)"
      ]
    },
    {
      "cell_type": "markdown",
      "metadata": {
        "id": "rHj51xFsqQIs"
      },
      "source": [
        "## dictcomp\n",
        "\"dictcomp\" can build a dictionary from iterated objects that use key/value pairs as elements."
      ]
    },
    {
      "cell_type": "code",
      "execution_count": null,
      "metadata": {
        "id": "1dq6HdgPqQIs",
        "colab": {
          "base_uri": "https://localhost:8080/"
        },
        "outputId": "56f748d8-fba2-4e73-e09a-199f8b760a83"
      },
      "outputs": [
        {
          "output_type": "stream",
          "name": "stdout",
          "text": [
            "{'John': 'CEO', 'Nacy': 'hr', 'LiLei': 'engineer'}\n"
          ]
        }
      ],
      "source": [
        "data = [(\"John\",\"CEO\",7),(\"Nacy\",\"hr\",7),(\"LiLei\",\"engineer\",9)]\n",
        "employee = {name:work for name, work,age in data}\n",
        "print(employee)"
      ]
    },
    {
      "cell_type": "code",
      "execution_count": null,
      "metadata": {
        "id": "SfFNoZzGqQIt",
        "colab": {
          "base_uri": "https://localhost:8080/"
        },
        "outputId": "e2ae93e8-8cb8-4d94-b27f-8ba258c9c04e"
      },
      "outputs": [
        {
          "output_type": "stream",
          "name": "stdout",
          "text": [
            "0\n",
            "1\n",
            "2\n",
            "3\n",
            "**************\n",
            "3 = 4\n",
            "5 = 6\n",
            "7 = 8\n",
            "9 = 10\n"
          ]
        }
      ],
      "source": [
        "a=[(3,4),(5,6),(7,8),(9,10)]\n",
        "for x in range(len(a)):\n",
        "    print(x)\n",
        "print('**************')\n",
        "for x,y in a:\n",
        "    print(x,\"=\",y)\n"
      ]
    },
    {
      "cell_type": "markdown",
      "metadata": {
        "id": "D5ux-sIjqQIt"
      },
      "source": [
        "## Dictionary lookup\n",
        "Look up directly according to a key value.  \n",
        "If there is no matched key value in a dictionary, KeyError is returned."
      ]
    },
    {
      "cell_type": "code",
      "execution_count": null,
      "metadata": {
        "id": "6CT8uZkZqQIt",
        "colab": {
          "base_uri": "https://localhost:8080/",
          "height": 169
        },
        "outputId": "dcbb58f0-2ee8-4704-9da5-2105cb4a3846"
      },
      "outputs": [
        {
          "output_type": "error",
          "ename": "KeyError",
          "evalue": "ignored",
          "traceback": [
            "\u001b[0;31m---------------------------------------------------------------------------\u001b[0m",
            "\u001b[0;31mKeyError\u001b[0m                                  Traceback (most recent call last)",
            "\u001b[0;32m<ipython-input-34-85261c9baaeb>\u001b[0m in \u001b[0;36m<cell line: 1>\u001b[0;34m()\u001b[0m\n\u001b[0;32m----> 1\u001b[0;31m \u001b[0mprint\u001b[0m\u001b[0;34m(\u001b[0m\u001b[0memployee\u001b[0m\u001b[0;34m[\u001b[0m\u001b[0;34m\"Joh\"\u001b[0m\u001b[0;34m]\u001b[0m\u001b[0;34m)\u001b[0m\u001b[0;34m\u001b[0m\u001b[0;34m\u001b[0m\u001b[0m\n\u001b[0m",
            "\u001b[0;31mKeyError\u001b[0m: 'Joh'"
          ]
        }
      ],
      "source": [
        "print(employee[\"Joh\"])"
      ]
    },
    {
      "cell_type": "markdown",
      "metadata": {
        "id": "6PdZLyvBqQIu"
      },
      "source": [
        "When you use dic[key] to look up a key value in a dictionary, it will return an error if there is no such key value. However, if you use dic.get(key, default) to look up a key value, it will return default if there is no such key value."
      ]
    },
    {
      "cell_type": "code",
      "execution_count": null,
      "metadata": {
        "id": "gBcB1FblqQIu",
        "colab": {
          "base_uri": "https://localhost:8080/"
        },
        "outputId": "70fcad3d-e317-4d60-e3e7-1487f1720ca0"
      },
      "outputs": [
        {
          "output_type": "stream",
          "name": "stdout",
          "text": [
            "hr\n"
          ]
        }
      ],
      "source": [
        "print(employee.get(\"Nacy\",\"UnKnown'\"))"
      ]
    },
    {
      "cell_type": "code",
      "execution_count": null,
      "metadata": {
        "scrolled": true,
        "id": "IjCsu0QjqQIu",
        "colab": {
          "base_uri": "https://localhost:8080/"
        },
        "outputId": "4c82fd9f-1a1f-4a1e-a544-e8811f7bd0ed"
      },
      "outputs": [
        {
          "output_type": "stream",
          "name": "stdout",
          "text": [
            "not exist\n"
          ]
        }
      ],
      "source": [
        "print(employee.get(\"Nac\",\"not exist\"))"
      ]
    },
    {
      "cell_type": "code",
      "execution_count": null,
      "metadata": {
        "id": "sf6XWdq2qQIu"
      },
      "outputs": [],
      "source": [
        "# Three value assignment operations on dictionaries.\n",
        "x = {'food':'Spam','quantity':4,'color':'pink'}\n",
        "X =dict(food='Spam',quantity=4, color='pink')\n",
        "x = dict([(\"food\", \"Spam\"),(\"quantity\", \"4\"),(\"color\",\"pink\")])"
      ]
    },
    {
      "cell_type": "code",
      "execution_count": null,
      "metadata": {
        "id": "UC3a9sohqQIu",
        "colab": {
          "base_uri": "https://localhost:8080/"
        },
        "outputId": "1e5ed818-66da-46b5-cb20-539de5b42c0c"
      },
      "outputs": [
        {
          "output_type": "stream",
          "name": "stdout",
          "text": [
            "{'food': 'Spam', 'quantity': '4', 'color': 'pink'}\n",
            "{'food': 'Spam', 'quantity': '4', 'color': 'red'}\n",
            "{'food': 'Spam', 'quantity': '4', 'color': 'pink'}\n"
          ]
        }
      ],
      "source": [
        "# dict.copy(): Copy data.\n",
        "d =x.copy()\n",
        "print(x)\t\t\t\t\t\t\t# {'food':'Spam','quantity':4,'color':'pink'} \n",
        "\n",
        "d['color'] = 'red'\n",
        "print(d)\t\t\t\t\t\t\t# {'food':'Spam','quantity':4,'color':'red'}\n",
        "print(x)"
      ]
    },
    {
      "cell_type": "code",
      "execution_count": null,
      "metadata": {
        "id": "HNgq7gfBqQIv",
        "colab": {
          "base_uri": "https://localhost:8080/"
        },
        "outputId": "3a434c01-93f4-4939-c6a1-fcd272ea1fdf"
      },
      "outputs": [
        {
          "output_type": "stream",
          "name": "stdout",
          "text": [
            "['ahmed', 'ali']\n",
            "['ahmed', 'ali']\n"
          ]
        }
      ],
      "source": [
        "x=['ahmed']\n",
        "y=x\n",
        "y.append('ali')\n",
        "print(x)\n",
        "print(y)\n"
      ]
    },
    {
      "cell_type": "code",
      "execution_count": null,
      "metadata": {
        "id": "wR8MiXJWqQIv",
        "colab": {
          "base_uri": "https://localhost:8080/",
          "height": 187
        },
        "outputId": "49ed5976-5c6a-43f2-9452-ed92cf3af808"
      },
      "outputs": [
        {
          "output_type": "error",
          "ename": "KeyError",
          "evalue": "ignored",
          "traceback": [
            "\u001b[0;31m---------------------------------------------------------------------------\u001b[0m",
            "\u001b[0;31mKeyError\u001b[0m                                  Traceback (most recent call last)",
            "\u001b[0;32m<ipython-input-41-0700fa117e3a>\u001b[0m in \u001b[0;36m<cell line: 2>\u001b[0;34m()\u001b[0m\n\u001b[1;32m      1\u001b[0m \u001b[0;31m# Element access.\u001b[0m\u001b[0;34m\u001b[0m\u001b[0;34m\u001b[0m\u001b[0m\n\u001b[0;32m----> 2\u001b[0;31m \u001b[0mprint\u001b[0m \u001b[0;34m(\u001b[0m\u001b[0md\u001b[0m\u001b[0;34m[\u001b[0m\u001b[0;34m'fod'\u001b[0m\u001b[0;34m]\u001b[0m\u001b[0;34m)\u001b[0m \u001b[0;31m# Obtain the error information.\u001b[0m\u001b[0;34m\u001b[0m\u001b[0;34m\u001b[0m\u001b[0m\n\u001b[0m",
            "\u001b[0;31mKeyError\u001b[0m: 'fod'"
          ]
        }
      ],
      "source": [
        "# Element access.\n",
        "print (d['fod']) # Obtain the error information."
      ]
    },
    {
      "cell_type": "code",
      "execution_count": null,
      "metadata": {
        "id": "Z-_JK9cPqQIv",
        "colab": {
          "base_uri": "https://localhost:8080/"
        },
        "outputId": "87d82c10-a62a-4ad1-c0fc-59d2037f9e06"
      },
      "outputs": [
        {
          "output_type": "stream",
          "name": "stdout",
          "text": [
            "fefefe\n",
            "The key value does not exist.\n",
            "dict_keys(['food', 'quantity', 'color'])\n",
            "dict_values(['Spam', '4', 'red'])\n",
            "dict_items([('food', 'Spam'), ('quantity', '4'), ('color', 'red')])\n"
          ]
        }
      ],
      "source": [
        "print(d.get('name','fefefe')) # Output: None\n",
        "print(d.get('name','The key value does not exist.')) \t# Output: The key value does not exist.\n",
        "print(d.keys()) # Output: dict_keys(['food', 'quantity', 'color'])\n",
        "print(d.values())# Output: dict_values(['Spam', 4, 'red'])\n",
        "print(d.items())\t\t\t\t\t"
      ]
    },
    {
      "cell_type": "code",
      "execution_count": null,
      "metadata": {
        "id": "rHR_a2sFqQIv"
      },
      "outputs": [],
      "source": [
        "# Output: dict_items([('food', 'Spam'), ('quantity', 4), ('color', 'red')])\n",
        "d.clear()# Clear all data in the dictionary.\n",
        "print(d)# Output: {}"
      ]
    },
    {
      "cell_type": "code",
      "execution_count": null,
      "metadata": {
        "id": "Q2L29IuaqQIw"
      },
      "outputs": [],
      "source": [
        "del(d)# Delete the dictionary.\n",
        "print(d)# The program is abnormal, and a message is displayed, indicating that d is not defined."
      ]
    },
    {
      "cell_type": "markdown",
      "metadata": {
        "id": "PFddzo92qQIw"
      },
      "source": [
        "# string"
      ]
    },
    {
      "cell_type": "markdown",
      "metadata": {
        "id": "Fow8SPSWqQIw"
      },
      "source": [
        "This experiment mainly introduces related knowledge units about strings in Python, and related operations on them."
      ]
    },
    {
      "cell_type": "markdown",
      "metadata": {
        "id": "7pHWLQdcqQIw"
      },
      "source": [
        "Strings of Python: A string is a sequence composed of zero or multiple characters, and it is one of the sixth built-in sequences of Python. Strings are unchangeable in Python, which are string constants in C and C++ languages.\n",
        "Expression of strings. Strings may be expressed in single quotes, double quotes, triple quotes, or as escape characters and original strings.\n"
      ]
    },
    {
      "cell_type": "markdown",
      "metadata": {
        "id": "5VJjOZM_qQIw"
      },
      "source": [
        "## Single quotes and double quotes\n",
        "Strings in single quotes are equal to those in double quotes, and they are exchangeable."
      ]
    },
    {
      "cell_type": "code",
      "execution_count": null,
      "metadata": {
        "id": "9KlmsAvtqQIx"
      },
      "outputs": [],
      "source": [
        "s = 'string'\n",
        "print(s)"
      ]
    },
    {
      "cell_type": "code",
      "execution_count": null,
      "metadata": {
        "id": "5nNH9tP-qQIx"
      },
      "outputs": [],
      "source": [
        "ss=\"python string\"\n",
        "print(ss)"
      ]
    },
    {
      "cell_type": "code",
      "execution_count": null,
      "metadata": {
        "scrolled": true,
        "id": "X0_6b-unqQIx",
        "colab": {
          "base_uri": "https://localhost:8080/"
        },
        "outputId": "527fe46f-153f-4ab1-fbd4-084abd544c44"
      },
      "outputs": [
        {
          "output_type": "stream",
          "name": "stdout",
          "text": [
            "python \"Hello World\"string\n"
          ]
        }
      ],
      "source": [
        "sss='python \"Hello World\"string'\n",
        "print(sss)"
      ]
    },
    {
      "cell_type": "markdown",
      "metadata": {
        "id": "ONn61uofqQIx"
      },
      "source": [
        "## Long strings\n",
        "Triple quotes can define long strings in Python as mentioned before. Long strings may have output like:"
      ]
    },
    {
      "cell_type": "code",
      "execution_count": null,
      "metadata": {
        "scrolled": true,
        "id": "kCtpVP20qQIx",
        "colab": {
          "base_uri": "https://localhost:8080/"
        },
        "outputId": "387de148-98d3-43d5-9084-d7512b67c89a"
      },
      "outputs": [
        {
          "output_type": "stream",
          "name": "stdout",
          "text": [
            "\"this is a long string\",he said\n"
          ]
        }
      ],
      "source": [
        "print('''\"this is a long string\",he said''')"
      ]
    },
    {
      "cell_type": "markdown",
      "metadata": {
        "id": "72a6IVLVqQIy"
      },
      "source": [
        "## Original strings\n",
        "Original strings start with r, and you can input any character in original strings. The output strings include backslash used by transference at last. However, you cannot input backslash at the end of strings. For example:"
      ]
    },
    {
      "cell_type": "code",
      "execution_count": null,
      "metadata": {
        "id": "ZmaeNECIqQIy",
        "colab": {
          "base_uri": "https://localhost:8080/"
        },
        "outputId": "49e3d6f8-b641-421d-cd97-d294f532acd1"
      },
      "outputs": [
        {
          "output_type": "stream",
          "name": "stdout",
          "text": [
            "D:\\SVN_CODE\\V900R17C00_TRP\\omu\\src\n"
          ]
        }
      ],
      "source": [
        "rawStr = r'D:\\SVN_CODE\\V900R17C00_TRP\\omu\\src'\n",
        "print(rawStr)"
      ]
    },
    {
      "cell_type": "markdown",
      "metadata": {
        "id": "cq9jxCWkqQIy"
      },
      "source": [
        "## Width, precision, and alignment of strings\n",
        "To achieve the expected effects of strings in aspects of width, precision, and alignment, refer to the formatting operator commands."
      ]
    },
    {
      "cell_type": "code",
      "execution_count": null,
      "metadata": {
        "id": "FW8E2Hb_qQIy",
        "colab": {
          "base_uri": "https://localhost:8080/"
        },
        "outputId": "d15d9127-51ee-44cc-ea61-df6f90977a79"
      },
      "outputs": [
        {
          "output_type": "stream",
          "name": "stdout",
          "text": [
            "a\n"
          ]
        }
      ],
      "source": [
        "print(\"%c\" % 97)"
      ]
    },
    {
      "cell_type": "code",
      "execution_count": null,
      "metadata": {
        "id": "i_BSEVpOqQIy",
        "colab": {
          "base_uri": "https://localhost:8080/"
        },
        "outputId": "f0328b2b-2153-427a-94cf-66e256bf2f47"
      },
      "outputs": [
        {
          "output_type": "stream",
          "name": "stdout",
          "text": [
            "  2.50\n"
          ]
        }
      ],
      "source": [
        "print(\"%6.2f\" % 2.5)"
      ]
    },
    {
      "cell_type": "code",
      "execution_count": null,
      "metadata": {
        "id": "DuWP5MYNqQIz",
        "colab": {
          "base_uri": "https://localhost:8080/"
        },
        "outputId": "5a523c45-620c-4a63-ee23-fa3e7d3f535c"
      },
      "outputs": [
        {
          "output_type": "stream",
          "name": "stdout",
          "text": [
            "     d\n"
          ]
        }
      ],
      "source": [
        "print(\"%6x\" % 13)"
      ]
    },
    {
      "cell_type": "code",
      "execution_count": null,
      "metadata": {
        "scrolled": true,
        "id": "EKhecU-OqQIz",
        "colab": {
          "base_uri": "https://localhost:8080/"
        },
        "outputId": "349a913f-0ba0-4d9a-f6d7-4dd7dc9a3191"
      },
      "outputs": [
        {
          "output_type": "stream",
          "name": "stdout",
          "text": [
            "1.5000\n"
          ]
        }
      ],
      "source": [
        "x=4\n",
        "print(\"%.*f\" % (x, 1.5))"
      ]
    },
    {
      "cell_type": "markdown",
      "metadata": {
        "id": "kFYkQ_nkqQIz"
      },
      "source": [
        "## Connect and repeat strings\n",
        "In Python, you can use \"+\" to connect strings and use \"*\" to repeat strings."
      ]
    },
    {
      "cell_type": "code",
      "execution_count": null,
      "metadata": {
        "id": "1rFWEuREqQIz",
        "colab": {
          "base_uri": "https://localhost:8080/"
        },
        "outputId": "0494406a-9f25-49d4-9194-3834cb35e550"
      },
      "outputs": [
        {
          "output_type": "stream",
          "name": "stdout",
          "text": [
            "I Knew Python.\n"
          ]
        }
      ],
      "source": [
        "s = 'I' + ' ' + 'Knew' + ' ' + 'Python' + '.'\n",
        "print(s)"
      ]
    },
    {
      "cell_type": "code",
      "execution_count": null,
      "metadata": {
        "scrolled": true,
        "id": "ya2iClDhqQIz",
        "colab": {
          "base_uri": "https://localhost:8080/"
        },
        "outputId": "ddb201eb-6bda-4635-eb26-470b1333716f"
      },
      "outputs": [
        {
          "output_type": "stream",
          "name": "stdout",
          "text": [
            "I love Python.I love Python.I love Python.\n"
          ]
        }
      ],
      "source": [
        "ss='I love Python.'*3\n",
        "print(ss)"
      ]
    },
    {
      "cell_type": "markdown",
      "metadata": {
        "id": "NpHwu2CcqQI0"
      },
      "source": [
        "## Delete strings\n",
        "You can use \"del\" to delete a string. After being deleted, this object will no longer exist, and an error is reported when you access this object again."
      ]
    },
    {
      "cell_type": "code",
      "execution_count": null,
      "metadata": {
        "scrolled": true,
        "id": "q3bmF5IwqQI0",
        "colab": {
          "base_uri": "https://localhost:8080/",
          "height": 187
        },
        "outputId": "e9338394-f74c-42c5-90ca-6af35b4930ca"
      },
      "outputs": [
        {
          "output_type": "error",
          "ename": "NameError",
          "evalue": "ignored",
          "traceback": [
            "\u001b[0;31m---------------------------------------------------------------------------\u001b[0m",
            "\u001b[0;31mNameError\u001b[0m                                 Traceback (most recent call last)",
            "\u001b[0;32m<ipython-input-56-98639b0ddb82>\u001b[0m in \u001b[0;36m<cell line: 2>\u001b[0;34m()\u001b[0m\n\u001b[1;32m      1\u001b[0m \u001b[0;32mdel\u001b[0m \u001b[0mss\u001b[0m\u001b[0;34m\u001b[0m\u001b[0;34m\u001b[0m\u001b[0m\n\u001b[0;32m----> 2\u001b[0;31m \u001b[0mprint\u001b[0m\u001b[0;34m(\u001b[0m\u001b[0mss\u001b[0m\u001b[0;34m)\u001b[0m\u001b[0;34m\u001b[0m\u001b[0;34m\u001b[0m\u001b[0m\n\u001b[0m",
            "\u001b[0;31mNameError\u001b[0m: name 'ss' is not defined"
          ]
        }
      ],
      "source": [
        "del ss\n",
        "print(ss)"
      ]
    },
    {
      "cell_type": "markdown",
      "metadata": {
        "id": "znvKE-CzqQI0"
      },
      "source": [
        "# Conditional and Looping Statements\n",
        "This experiment mainly introduces related knowledge units about conditional and looping statements in Python, and related operations on them.  \n",
        "There are a lot of changes in looping statements. Common statements include the \"for\" statement and the \"while\" statement.  \n",
        "In \"for\" looping, the \"for\" statement should be followed by a colon. \"for\" looping is performed in a way similar to iterating. In \"while\" looping, there is a judgment on condition and then looping, like in other languages.  "
      ]
    },
    {
      "cell_type": "markdown",
      "metadata": {
        "id": "JHe65FegqQI0"
      },
      "source": [
        "## If Statement"
      ]
    },
    {
      "cell_type": "code",
      "execution_count": null,
      "metadata": {
        "id": "--7HEYReqQI0"
      },
      "outputs": [],
      "source": [
        "#Determine the entered score.\n",
        "# input(): Receive input data.\n",
        "score = input(\"Please enter your score.\") # The input function receives input, which is a character string.\n",
        "try:\n",
        "    score = float(score)# Convert the score to a number.\n",
        "# try:… except Exception:… is a Python statement used to capture exceptions. If an error occurs in the statement in the try statement, the except statement will be executed.\n",
        "\n",
        "    if 100>=score>=90: \t\t\t\t\t\t\t\t# Check whether the entered value is greater than the score of a level.\n",
        "        print(\"Excellent\") # Generate the level when conditions are met.\n",
        "    elif 90 > score >= 80:\n",
        "        print(\"Good\")\n",
        "    elif 80>score>50:\n",
        "        print(\"Medium\")\n",
        "    else:\n",
        "        print(\"Bad\")\n",
        "except Exception:\n",
        "\tprint(\"Enter a correct score.\")"
      ]
    },
    {
      "cell_type": "markdown",
      "metadata": {
        "id": "jITbejYUqQI1"
      },
      "source": [
        "## \"for\" looping"
      ]
    },
    {
      "cell_type": "code",
      "execution_count": null,
      "metadata": {
        "id": "5dHtJ5SaqQI1"
      },
      "outputs": [],
      "source": [
        "for i in range(5,11,2):\n",
        "    print(i)"
      ]
    },
    {
      "cell_type": "code",
      "execution_count": null,
      "metadata": {
        "scrolled": true,
        "id": "S9kbZDx7qQI1",
        "colab": {
          "base_uri": "https://localhost:8080/"
        },
        "outputId": "50655726-b4f0-4c9c-ddb9-b5143d063112"
      },
      "outputs": [
        {
          "output_type": "stream",
          "name": "stdout",
          "text": [
            "[3, 5]\n"
          ]
        }
      ],
      "source": [
        "a=[1,3,5,7,9]\n",
        "print(a[:])\n"
      ]
    },
    {
      "cell_type": "code",
      "execution_count": null,
      "metadata": {
        "id": "zGdI68_1qQI1",
        "colab": {
          "base_uri": "https://localhost:8080/"
        },
        "outputId": "74d20687-2ce6-441c-f070-ec19a165408a"
      },
      "outputs": [
        {
          "output_type": "stream",
          "name": "stdout",
          "text": [
            "1\n",
            "3\n",
            "5\n",
            "7\n",
            "9\n",
            "[1, 3, 5, 7, 9]\n"
          ]
        }
      ],
      "source": [
        "for i in a:\n",
        "    print(i)\n",
        "print(a)"
      ]
    },
    {
      "cell_type": "code",
      "execution_count": null,
      "metadata": {
        "id": "rxrpu0u-qQI1",
        "colab": {
          "base_uri": "https://localhost:8080/"
        },
        "outputId": "42741cfe-ec41-4711-ce3d-cf7f24e2d56d"
      },
      "outputs": [
        {
          "output_type": "stream",
          "name": "stdout",
          "text": [
            "0\n",
            "1\n",
            "2\n",
            "3\n",
            "4\n",
            "5\n",
            "6\n",
            "7\n",
            "8\n",
            "9\n",
            "10\n",
            "11\n",
            "12\n",
            "13\n",
            "14\n",
            "15\n",
            "16\n"
          ]
        }
      ],
      "source": [
        "x=\"welcome to python\"\n",
        "for i in range(len(x)):\n",
        "    print(i)"
      ]
    },
    {
      "cell_type": "code",
      "execution_count": null,
      "metadata": {
        "id": "JkrVltgpqQI2",
        "colab": {
          "base_uri": "https://localhost:8080/"
        },
        "outputId": "5de62335-c582-4883-fb92-42f564312435"
      },
      "outputs": [
        {
          "output_type": "stream",
          "name": "stdout",
          "text": [
            "1*1=1 \n",
            "2*1=2 2*2=4 \n",
            "3*1=3 3*2=6 3*3=9 \n",
            "4*1=4 4*2=8 4*3=12 4*4=16 \n",
            "5*1=5 5*2=10 5*3=15 5*4=20 5*5=25 \n",
            "6*1=6 6*2=12 6*3=18 6*4=24 6*5=30 6*6=36 \n",
            "7*1=7 7*2=14 7*3=21 7*4=28 7*5=35 7*6=42 7*7=49 \n",
            "8*1=8 8*2=16 8*3=24 8*4=32 8*5=40 8*6=48 8*7=56 8*8=64 \n",
            "9*1=9 9*2=18 9*3=27 9*4=36 9*5=45 9*6=54 9*7=63 9*8=72 9*9=81 \n",
            "10*1=10 10*2=20 10*3=30 10*4=40 10*5=50 10*6=60 10*7=70 10*8=80 10*9=90 10*10=100 \n",
            "11*1=11 11*2=22 11*3=33 11*4=44 11*5=55 11*6=66 11*7=77 11*8=88 11*9=99 11*10=110 11*11=121 \n",
            "12*1=12 12*2=24 12*3=36 12*4=48 12*5=60 12*6=72 12*7=84 12*8=96 12*9=108 12*10=120 12*11=132 12*12=144 \n"
          ]
        }
      ],
      "source": [
        "for i in range(1,13):# Define the outer loop.\n",
        "    for j in range(1,i+1):# Define the inner loop.\n",
        "\t# Format the output character string to align the generated result. The end attribute is set to /n by default.\n",
        "        print(\"%d*%d=%d\"%(i,j,i*j), end=\" \")\n",
        "    print()"
      ]
    },
    {
      "cell_type": "markdown",
      "metadata": {
        "id": "LoCYAhxTqQI2"
      },
      "source": [
        "## \"while\" looping"
      ]
    },
    {
      "cell_type": "code",
      "execution_count": null,
      "metadata": {
        "scrolled": true,
        "id": "CA-pIaGEqQI5",
        "colab": {
          "base_uri": "https://localhost:8080/"
        },
        "outputId": "ca97a4f6-96a8-4046-f188-157b63c7bc79"
      },
      "outputs": [
        {
          "output_type": "stream",
          "name": "stdout",
          "text": [
            "90\n",
            "91\n",
            "92\n",
            "93\n",
            "94\n",
            "95\n",
            "96\n",
            "97\n",
            "98\n",
            "99\n"
          ]
        }
      ],
      "source": [
        "i=90\n",
        "while (i<100):\n",
        "    print(i)\n",
        "    i+=1 #i=i+1\n"
      ]
    },
    {
      "cell_type": "code",
      "execution_count": null,
      "metadata": {
        "id": "19VOgkMoqQI5",
        "colab": {
          "base_uri": "https://localhost:8080/"
        },
        "outputId": "908855cb-0f12-4388-c9cc-cc0e9611a1b1"
      },
      "outputs": [
        {
          "output_type": "stream",
          "name": "stdout",
          "text": [
            "1\n",
            "2\n",
            "Exit this iteration.\n",
            "4\n",
            "Exit the current big loop.\n"
          ]
        }
      ],
      "source": [
        "i = 0# Create variable i.\n",
        "while i<9: \t\t\t\t\t\t\t\t\t\t# Set a condition for the loop.\n",
        "\ti+=1 # The value of i increases by 1 in each loop.\n",
        "\tif i == 3: \t\t\t\t\t\t\t\t\t\t# Check whether the conditions are met.\n",
        "\t\tprint(\"Exit this iteration.\")\n",
        "\t\tcontinue# Execute continue to exit the current loop.\n",
        "\tif i == 5:\n",
        "\t\tprint(\"Exit the current big loop.\")\n",
        "\t\tbreak# Exit the current big loop.\n",
        "\tprint(i)"
      ]
    },
    {
      "cell_type": "markdown",
      "metadata": {
        "id": "Th9Dw_kiqQI5"
      },
      "source": [
        "# Functions\n",
        "This experiment mainly introduces related knowledge units about functions in Python, and related operations on them.  \n",
        "Functions can raise modularity of applications and reuse of code. In Python, strings, tuples, and numbers are unchangeable, while lists and dictionaries are changeable. For those unchangeable types such as integers, strings, and tuples, only values are transferred during function calling, without any impact on the objects themselves. For those changeable types, objects are transferred during function calling, and external objects will also be impacted after changes.  "
      ]
    },
    {
      "cell_type": "markdown",
      "metadata": {
        "id": "n_V3HXPLqQI5"
      },
      "source": [
        "## Common built-in functions\n",
        "The \"int\" function can be used to convert other types of data into integers."
      ]
    },
    {
      "cell_type": "code",
      "execution_count": null,
      "metadata": {
        "id": "zvgcR4C7qQI6",
        "colab": {
          "base_uri": "https://localhost:8080/"
        },
        "outputId": "f3676a27-61a1-4dec-b12e-661d4a03679a"
      },
      "outputs": [
        {
          "output_type": "execute_result",
          "data": {
            "text/plain": [
              "123"
            ]
          },
          "metadata": {},
          "execution_count": 65
        }
      ],
      "source": [
        "int('123')"
      ]
    },
    {
      "cell_type": "code",
      "execution_count": null,
      "metadata": {
        "id": "1iQX9KawqQI6",
        "colab": {
          "base_uri": "https://localhost:8080/"
        },
        "outputId": "cac7f90b-f1c1-49e9-8cf5-5bb6bcceb5ee"
      },
      "outputs": [
        {
          "output_type": "execute_result",
          "data": {
            "text/plain": [
              "12"
            ]
          },
          "metadata": {},
          "execution_count": 66
        }
      ],
      "source": [
        "int(12.34)"
      ]
    },
    {
      "cell_type": "code",
      "execution_count": null,
      "metadata": {
        "id": "201Rx0dAqQI6",
        "colab": {
          "base_uri": "https://localhost:8080/"
        },
        "outputId": "3c1f85d2-f60c-4a3a-99d4-3585a7572862"
      },
      "outputs": [
        {
          "output_type": "stream",
          "name": "stdout",
          "text": [
            "please enter the first value4\n",
            "please enter the second value6\n",
            "10\n",
            "enter your age67\n",
            "<class 'str'>\n",
            "<class 'int'>\n"
          ]
        }
      ],
      "source": [
        "x=int(input(\"please enter the first value\"))\n",
        "y=int(input(\"please enter the second value\"))\n",
        "z=x+y\n",
        "print(z)\n",
        "\n",
        "x=input(\"enter your age\")\n",
        "print(type(x))\n",
        "x=int(x)\n",
        "print(type(x))"
      ]
    },
    {
      "cell_type": "code",
      "execution_count": null,
      "metadata": {
        "id": "tCkLP-LIqQI6",
        "colab": {
          "base_uri": "https://localhost:8080/"
        },
        "outputId": "1cac89b6-5e52-402e-ba0b-6544d718ebd4"
      },
      "outputs": [
        {
          "output_type": "execute_result",
          "data": {
            "text/plain": [
              "12.34"
            ]
          },
          "metadata": {},
          "execution_count": 68
        }
      ],
      "source": [
        "float('12.34')"
      ]
    },
    {
      "cell_type": "code",
      "execution_count": null,
      "metadata": {
        "id": "wpoZ9oOFqQI6",
        "colab": {
          "base_uri": "https://localhost:8080/",
          "height": 36
        },
        "outputId": "f393e7ed-9ddd-4ae4-8541-2ff2fcc1717b"
      },
      "outputs": [
        {
          "output_type": "execute_result",
          "data": {
            "text/plain": [
              "'1.23'"
            ],
            "application/vnd.google.colaboratory.intrinsic+json": {
              "type": "string"
            }
          },
          "metadata": {},
          "execution_count": 69
        }
      ],
      "source": [
        "str(1.23)"
      ]
    },
    {
      "cell_type": "code",
      "execution_count": null,
      "metadata": {
        "id": "A0Jfx16nqQI7",
        "colab": {
          "base_uri": "https://localhost:8080/",
          "height": 36
        },
        "outputId": "3f9f044a-d0ef-456e-cb34-a70a55fe247b"
      },
      "outputs": [
        {
          "output_type": "execute_result",
          "data": {
            "text/plain": [
              "'100'"
            ],
            "application/vnd.google.colaboratory.intrinsic+json": {
              "type": "string"
            }
          },
          "metadata": {},
          "execution_count": 70
        }
      ],
      "source": [
        "str(100)"
      ]
    },
    {
      "cell_type": "code",
      "execution_count": null,
      "metadata": {
        "id": "jgVZJcNEqQI7",
        "colab": {
          "base_uri": "https://localhost:8080/"
        },
        "outputId": "6dac6c49-3f6f-4e14-ce48-817dadf3ac97"
      },
      "outputs": [
        {
          "output_type": "execute_result",
          "data": {
            "text/plain": [
              "True"
            ]
          },
          "metadata": {},
          "execution_count": 71
        }
      ],
      "source": [
        "bool(6)"
      ]
    },
    {
      "cell_type": "code",
      "execution_count": null,
      "metadata": {
        "id": "g4tyRGccqQI7",
        "colab": {
          "base_uri": "https://localhost:8080/"
        },
        "outputId": "01d0fc3f-4b99-4bf0-af9c-11277d954eb0"
      },
      "outputs": [
        {
          "output_type": "execute_result",
          "data": {
            "text/plain": [
              "False"
            ]
          },
          "metadata": {},
          "execution_count": 72
        }
      ],
      "source": [
        "bool('')"
      ]
    },
    {
      "cell_type": "markdown",
      "metadata": {
        "id": "1vmElPWRqQI7"
      },
      "source": [
        "## Function name\n",
        "A function name is a reference to a function object, and it can be assigned to a variable, which is equivalent to giving the function an alias name."
      ]
    },
    {
      "cell_type": "code",
      "execution_count": null,
      "metadata": {
        "id": "Hy48-Mu-qQI7",
        "colab": {
          "base_uri": "https://localhost:8080/"
        },
        "outputId": "1ee7de8c-e302-464e-ae75-bafc2f7ce206"
      },
      "outputs": [
        {
          "output_type": "execute_result",
          "data": {
            "text/plain": [
              "1"
            ]
          },
          "metadata": {},
          "execution_count": 73
        }
      ],
      "source": [
        "a = abs # Variable a points to function abs\n",
        "a(-1) # Therefore, the \"abs\" can be called by using \"a\""
      ]
    },
    {
      "cell_type": "markdown",
      "metadata": {
        "id": "vK6l6ukRqQI8"
      },
      "source": [
        "## Define functions"
      ]
    },
    {
      "cell_type": "markdown",
      "metadata": {
        "id": "7IY0iWS5qQI8"
      },
      "source": [
        "In Python, you can use the \"def\" statement to define a function, listing function names, brackets, arguments in brackets and colons successively. Then you can edit a function in an indentation block and use the \"return\" statement to return values.  \n",
        "We make an example by defining the \"my_abs\" function to get an absolute value."
      ]
    },
    {
      "cell_type": "code",
      "execution_count": null,
      "metadata": {
        "id": "kjzVa0qIqQI8"
      },
      "outputs": [],
      "source": [
        "def my_abs(x):\n",
        "    if x>=0:\n",
        "        return x\n",
        "    else:\n",
        "        return -x"
      ]
    },
    {
      "cell_type": "code",
      "execution_count": null,
      "metadata": {
        "id": "T40cocBcqQI8",
        "outputId": "c2e0e383-e662-43cc-de33-92cd1478c1ac",
        "colab": {
          "base_uri": "https://localhost:8080/"
        }
      },
      "outputs": [
        {
          "output_type": "execute_result",
          "data": {
            "text/plain": [
              "2"
            ]
          },
          "metadata": {},
          "execution_count": 75
        }
      ],
      "source": [
        "my_abs(-2)"
      ]
    },
    {
      "cell_type": "markdown",
      "metadata": {
        "id": "cywzXpP6qQI8"
      },
      "source": [
        "You can use the \"pass\" statement to define a void function, which can be used as a placeholder. Change the definition of \"my_abs\" to check argument types, that is, to allow only arguments of integers and floating numbers. You can check data types with the built-in function \"is instance()\"."
      ]
    },
    {
      "cell_type": "code",
      "execution_count": null,
      "metadata": {
        "id": "Se_y7JzkqQI9"
      },
      "outputs": [],
      "source": [
        "def my_abs(x):\n",
        "    if not isinstance(x, (int, float)):\n",
        "        raise TypeError('bad operand type')\n",
        "    if x >= 0:\n",
        "        return x\n",
        "    else:\n",
        "        return -x"
      ]
    },
    {
      "cell_type": "code",
      "execution_count": null,
      "metadata": {
        "id": "QKAqwAstqQI9",
        "colab": {
          "base_uri": "https://localhost:8080/",
          "height": 294
        },
        "outputId": "8f549de2-bbeb-471a-d59e-d9d65922a4da"
      },
      "outputs": [
        {
          "output_type": "error",
          "ename": "TypeError",
          "evalue": "ignored",
          "traceback": [
            "\u001b[0;31m---------------------------------------------------------------------------\u001b[0m",
            "\u001b[0;31mTypeError\u001b[0m                                 Traceback (most recent call last)",
            "\u001b[0;32m<ipython-input-3-9facf81466ad>\u001b[0m in \u001b[0;36m<cell line: 1>\u001b[0;34m()\u001b[0m\n\u001b[0;32m----> 1\u001b[0;31m \u001b[0mmy_abs\u001b[0m\u001b[0;34m(\u001b[0m\u001b[0;34m'3'\u001b[0m\u001b[0;34m)\u001b[0m\u001b[0;34m\u001b[0m\u001b[0;34m\u001b[0m\u001b[0m\n\u001b[0m",
            "\u001b[0;32m<ipython-input-2-c24a51d84b1e>\u001b[0m in \u001b[0;36mmy_abs\u001b[0;34m(x)\u001b[0m\n\u001b[1;32m      1\u001b[0m \u001b[0;32mdef\u001b[0m \u001b[0mmy_abs\u001b[0m\u001b[0;34m(\u001b[0m\u001b[0mx\u001b[0m\u001b[0;34m)\u001b[0m\u001b[0;34m:\u001b[0m\u001b[0;34m\u001b[0m\u001b[0;34m\u001b[0m\u001b[0m\n\u001b[1;32m      2\u001b[0m     \u001b[0;32mif\u001b[0m \u001b[0;32mnot\u001b[0m \u001b[0misinstance\u001b[0m\u001b[0;34m(\u001b[0m\u001b[0mx\u001b[0m\u001b[0;34m,\u001b[0m \u001b[0;34m(\u001b[0m\u001b[0mint\u001b[0m\u001b[0;34m,\u001b[0m \u001b[0mfloat\u001b[0m\u001b[0;34m)\u001b[0m\u001b[0;34m)\u001b[0m\u001b[0;34m:\u001b[0m\u001b[0;34m\u001b[0m\u001b[0;34m\u001b[0m\u001b[0m\n\u001b[0;32m----> 3\u001b[0;31m         \u001b[0;32mraise\u001b[0m \u001b[0mTypeError\u001b[0m\u001b[0;34m(\u001b[0m\u001b[0;34m'bad operand type'\u001b[0m\u001b[0;34m)\u001b[0m\u001b[0;34m\u001b[0m\u001b[0;34m\u001b[0m\u001b[0m\n\u001b[0m\u001b[1;32m      4\u001b[0m     \u001b[0;32mif\u001b[0m \u001b[0mx\u001b[0m \u001b[0;34m>=\u001b[0m \u001b[0;36m0\u001b[0m\u001b[0;34m:\u001b[0m\u001b[0;34m\u001b[0m\u001b[0;34m\u001b[0m\u001b[0m\n\u001b[1;32m      5\u001b[0m         \u001b[0;32mreturn\u001b[0m \u001b[0mx\u001b[0m\u001b[0;34m\u001b[0m\u001b[0;34m\u001b[0m\u001b[0m\n",
            "\u001b[0;31mTypeError\u001b[0m: bad operand type"
          ]
        }
      ],
      "source": [
        "my_abs('3')"
      ]
    },
    {
      "cell_type": "code",
      "execution_count": null,
      "metadata": {
        "id": "zBSEVqcRqQI9",
        "colab": {
          "base_uri": "https://localhost:8080/",
          "height": 133
        },
        "outputId": "bf9f0cd3-0d33-49d2-8f8b-747f09336eef"
      },
      "outputs": [
        {
          "output_type": "error",
          "ename": "SyntaxError",
          "evalue": "ignored",
          "traceback": [
            "\u001b[0;36m  File \u001b[0;32m\"<ipython-input-4-b37075c82ddc>\"\u001b[0;36m, line \u001b[0;32m1\u001b[0m\n\u001b[0;31m    def my_abs(x):\u001b[0m\n\u001b[0m                  ^\u001b[0m\n\u001b[0;31mSyntaxError\u001b[0m\u001b[0;31m:\u001b[0m incomplete input\n"
          ]
        }
      ],
      "source": [
        "def my_abs(x):"
      ]
    },
    {
      "cell_type": "code",
      "execution_count": null,
      "metadata": {
        "id": "WOuYrJUWqQI9"
      },
      "outputs": [],
      "source": [
        "def my_abs(x):\n",
        "    pass"
      ]
    },
    {
      "cell_type": "code",
      "execution_count": null,
      "metadata": {
        "id": "5u4s7NUJqQI9"
      },
      "outputs": [],
      "source": [
        "def my_abs(x):\n",
        "    pass\n",
        "    if x >= 0:\n",
        "        return x\n",
        "    else:\n",
        "        return -x"
      ]
    },
    {
      "cell_type": "code",
      "execution_count": null,
      "metadata": {
        "id": "OM-eNvgDqQI9"
      },
      "outputs": [],
      "source": [
        "my_abs('3')"
      ]
    },
    {
      "cell_type": "markdown",
      "metadata": {
        "id": "O6XKiUE0qQI-"
      },
      "source": [
        "## Keyword arguments\n",
        "Changeable arguments allow you input zero or any number of arguments, and these changeable arguments will be assembled into a tuple for function calling. While keyword arguments allow you to input zero or any number of arguments, and these keyword arguments will be assembled into a dictionary in functions."
      ]
    },
    {
      "cell_type": "code",
      "execution_count": null,
      "metadata": {
        "id": "xRycd9mvqQI-"
      },
      "outputs": [],
      "source": [
        "def person(name, age, **kw):\n",
        "    print('name:', name, 'age:', age, 'other:', kw)"
      ]
    },
    {
      "cell_type": "markdown",
      "metadata": {
        "id": "I_81j7fRqQI-"
      },
      "source": [
        "Function \"person\" receives keyword argument \"kw\" except essential arguments \"name\" and \"age\". You can only input essential arguments when calling this function."
      ]
    },
    {
      "cell_type": "code",
      "execution_count": null,
      "metadata": {
        "id": "IcupGkpNqQI-",
        "colab": {
          "base_uri": "https://localhost:8080/"
        },
        "outputId": "b54f173b-81a0-475f-d9c5-7dc892bb5071"
      },
      "outputs": [
        {
          "output_type": "stream",
          "name": "stdout",
          "text": [
            "name: Michael age: 30 other: {}\n"
          ]
        }
      ],
      "source": [
        "person('Michael', 30)"
      ]
    },
    {
      "cell_type": "code",
      "execution_count": null,
      "metadata": {
        "id": "ML1GQZD2qQI-",
        "colab": {
          "base_uri": "https://localhost:8080/"
        },
        "outputId": "56b3319c-f995-43b3-cf73-ab8fca88ea02"
      },
      "outputs": [
        {
          "output_type": "stream",
          "name": "stdout",
          "text": [
            "name: Bob age: 35 other: {'city': 'Beijing'}\n"
          ]
        }
      ],
      "source": [
        "#You can also input any number of keyword arguments.\n",
        "person('Bob', 35, city='Beijing')"
      ]
    },
    {
      "cell_type": "code",
      "execution_count": null,
      "metadata": {
        "id": "dYPL4RSZqQI-",
        "colab": {
          "base_uri": "https://localhost:8080/"
        },
        "outputId": "3d87a1a7-9976-4f49-fd0d-4e35bd2347d2"
      },
      "outputs": [
        {
          "output_type": "stream",
          "name": "stdout",
          "text": [
            "name: Adam age: 45 other: {'gender': 'M', 'job': 'Engineer'}\n"
          ]
        }
      ],
      "source": [
        " person('Adam', 45, gender='M', job='Engineer')"
      ]
    },
    {
      "cell_type": "markdown",
      "metadata": {
        "id": "FJ_qPMGzqQI_"
      },
      "source": [
        "You can assemble a dictionary and convert it into keyword arguments as inputs. This is similar to assembling changeable arguments."
      ]
    },
    {
      "cell_type": "code",
      "execution_count": null,
      "metadata": {
        "id": "mdDpImDcqQI_",
        "colab": {
          "base_uri": "https://localhost:8080/"
        },
        "outputId": "2c85b42a-1ea1-4fd0-ccd6-e5ef58fc35dc"
      },
      "outputs": [
        {
          "output_type": "stream",
          "name": "stdout",
          "text": [
            "name: Jack age: 24 other: {'city': 'Beijing', 'job': 'Engineer'}\n"
          ]
        }
      ],
      "source": [
        "extra = {'city': 'Beijing', 'job': 'Engineer'}\n",
        "person('Jack', 24, city=extra['city'], job=extra['job'])"
      ]
    },
    {
      "cell_type": "markdown",
      "metadata": {
        "id": "MHHmlj_EqQI_"
      },
      "source": [
        "You can certainly simplify the above-mentioned complex function calling.  \n",
        "***extra means transferring all key-values in this extra dictionary as key arguments into the **kw argument of the function. kw will get a dictionary, which is a copy of the extra dictionary. Changes on kw will not impact the extra dictionary outside the function."
      ]
    },
    {
      "cell_type": "code",
      "execution_count": null,
      "metadata": {
        "id": "POgVAowCqQI_",
        "colab": {
          "base_uri": "https://localhost:8080/"
        },
        "outputId": "31e13fef-2abc-4638-b7ea-c26bf45eb661"
      },
      "outputs": [
        {
          "output_type": "stream",
          "name": "stdout",
          "text": [
            "name: Jack age: 24 other: {'city': 'Beijing', 'job': 'Engineer'}\n"
          ]
        }
      ],
      "source": [
        "extra = {'city': 'Beijing', 'job': 'Engineer'}\n",
        "person('Jack', 24, **extra)"
      ]
    },
    {
      "cell_type": "markdown",
      "metadata": {
        "id": "X6ZALG-sqQI_"
      },
      "source": [
        "## Name keyword arguments\n",
        "If you want to restrict names of keyword arguments, you can name keyword arguments. For example, you can accept only \"city\" and \"job\" as keyword arguments. A function defined in this way is as follows:"
      ]
    },
    {
      "cell_type": "code",
      "execution_count": null,
      "metadata": {
        "id": "yx4_6HepqQI_"
      },
      "outputs": [],
      "source": [
        "def person(name, age, *, city, job):\n",
        "    print(name, age, city, job)"
      ]
    },
    {
      "cell_type": "markdown",
      "metadata": {
        "id": "F9IrzpP9qQJZ"
      },
      "source": [
        "Different from keyword argument \"**kw\", a special separator \"*\"is required to name a keyword argument. Arguments after \"*\"are regarded as naming keyword arguments, which are called as follows:"
      ]
    },
    {
      "cell_type": "code",
      "execution_count": null,
      "metadata": {
        "id": "Us22Pk38qQJZ",
        "colab": {
          "base_uri": "https://localhost:8080/",
          "height": 169
        },
        "outputId": "f66d743c-443e-4f58-b4d4-9181a9ebee72"
      },
      "outputs": [
        {
          "output_type": "error",
          "ename": "TypeError",
          "evalue": "ignored",
          "traceback": [
            "\u001b[0;31m---------------------------------------------------------------------------\u001b[0m",
            "\u001b[0;31mTypeError\u001b[0m                                 Traceback (most recent call last)",
            "\u001b[0;32m<ipython-input-13-e5310d1060b7>\u001b[0m in \u001b[0;36m<cell line: 1>\u001b[0;34m()\u001b[0m\n\u001b[0;32m----> 1\u001b[0;31m \u001b[0mperson\u001b[0m\u001b[0;34m(\u001b[0m\u001b[0;34m'Jack'\u001b[0m\u001b[0;34m,\u001b[0m \u001b[0;36m24\u001b[0m\u001b[0;34m)\u001b[0m\u001b[0;34m\u001b[0m\u001b[0;34m\u001b[0m\u001b[0m\n\u001b[0m",
            "\u001b[0;31mTypeError\u001b[0m: person() missing 2 required keyword-only arguments: 'city' and 'job'"
          ]
        }
      ],
      "source": [
        "person('Jack', 24)"
      ]
    },
    {
      "cell_type": "markdown",
      "metadata": {
        "id": "SEZ4Q6ibqQJZ"
      },
      "source": [
        "The special separator \"*\"is not required in the keyword argument after a changeable argument in a function."
      ]
    },
    {
      "cell_type": "code",
      "execution_count": null,
      "metadata": {
        "id": "9gXy_AANqQJa"
      },
      "outputs": [],
      "source": [
        "def person(name, age, *args, city=\"Beijing\",job):\n",
        "    print(name, age, args, city, job)"
      ]
    },
    {
      "cell_type": "markdown",
      "metadata": {
        "id": "XFBoUCExqQJa"
      },
      "source": [
        "Because the keyword argument \"city\" has a default value, you do not need to input a parameter of \"city\" for calling."
      ]
    },
    {
      "cell_type": "code",
      "execution_count": null,
      "metadata": {
        "id": "4qmvSH8qqQJa",
        "colab": {
          "base_uri": "https://localhost:8080/"
        },
        "outputId": "e8696890-3fb4-4749-f7fe-87ce2b98b5c4"
      },
      "outputs": [
        {
          "output_type": "stream",
          "name": "stdout",
          "text": [
            "Jack 24 () Beijing Engineer\n"
          ]
        }
      ],
      "source": [
        "person('Jack', 24,job='Engineer')"
      ]
    },
    {
      "cell_type": "markdown",
      "metadata": {
        "id": "CTTZbXvZqQJb"
      },
      "source": [
        "When you name a keyword argument, \"*\" must be added as a special separator if there are no changeable arguments. Python interpreter cannot identify position arguments and keyword arguments if there is no \"*\"."
      ]
    },
    {
      "cell_type": "markdown",
      "metadata": {
        "id": "iZd97EJtqQJb"
      },
      "source": [
        "# Argument combination\n",
        "To define a function in Python, you can use required arguments, default arguments, changeable arguments, keyword arguments and named keyword arguments. These five types of arguments can be combined with each other.  \n",
        "Note: Arguments must be defined in the order of required arguments, default arguments, changeable arguments, named keyword arguments, and keyword arguments.  \n",
        "For example, to define a function that includes the above-mentioned arguments:  "
      ]
    },
    {
      "cell_type": "code",
      "execution_count": null,
      "metadata": {
        "id": "d47SR3KQqQJb"
      },
      "outputs": [],
      "source": [
        "def f1(a, b, c=0, *args, **kw):\n",
        "    print('a =', a, 'b =', b, 'c =', c, 'args =', args, 'kw =', kw)"
      ]
    },
    {
      "cell_type": "code",
      "execution_count": null,
      "metadata": {
        "id": "3Wh0sMgVqQJb",
        "colab": {
          "base_uri": "https://localhost:8080/"
        },
        "outputId": "35a82c2c-3833-4d7c-a305-3f81269c1980"
      },
      "outputs": [
        {
          "output_type": "stream",
          "name": "stdout",
          "text": [
            "a = 1 b = 2 c = 0 args = () kw = {}\n"
          ]
        }
      ],
      "source": [
        "#Python interpreter will input the matched arguments according to argument positions and names automatically when calling a function.\n",
        "f1(1, 2)"
      ]
    },
    {
      "cell_type": "code",
      "execution_count": null,
      "metadata": {
        "id": "7fgNUyHEqQJc",
        "colab": {
          "base_uri": "https://localhost:8080/"
        },
        "outputId": "1c4312ae-9956-4918-9aab-d073a62e9f54"
      },
      "outputs": [
        {
          "output_type": "stream",
          "name": "stdout",
          "text": [
            "a = 1 b = 2 c = 3 args = () kw = {}\n"
          ]
        }
      ],
      "source": [
        "f1( c=3,a=1,b=2)"
      ]
    },
    {
      "cell_type": "code",
      "execution_count": null,
      "metadata": {
        "id": "eXlhKijDqQJc"
      },
      "outputs": [],
      "source": [
        "f1(1, 2, 3, 'a', 'b')"
      ]
    },
    {
      "cell_type": "code",
      "execution_count": null,
      "metadata": {
        "id": "N5RQDPJCqQJc",
        "colab": {
          "base_uri": "https://localhost:8080/"
        },
        "outputId": "07ffa4e7-add6-4d39-8612-25ea966ec5b3"
      },
      "outputs": [
        {
          "output_type": "stream",
          "name": "stdout",
          "text": [
            "a = 1 b = 2 c = 3 args = ('a', 'b') kw = {'x': 99}\n"
          ]
        }
      ],
      "source": [
        "f1(1, 2, 3, 'a', 'b', x=99)"
      ]
    },
    {
      "cell_type": "code",
      "execution_count": null,
      "metadata": {
        "id": "tnZyGOqxqQJc"
      },
      "outputs": [],
      "source": [
        "def f2(a, b, c=0, *, d, **kw):\n",
        "    print('a =', a, 'b =', b, 'c =', c, 'd =', d, 'kw =', kw)"
      ]
    },
    {
      "cell_type": "code",
      "execution_count": null,
      "metadata": {
        "id": "W10rmhbRqQJd",
        "colab": {
          "base_uri": "https://localhost:8080/"
        },
        "outputId": "e7096ea2-78fb-408b-b7ee-5aaa7171f2be"
      },
      "outputs": [
        {
          "output_type": "stream",
          "name": "stdout",
          "text": [
            "a = 1 b = 2 c = 0 d = 99 kw = {'ext': 'a'}\n"
          ]
        }
      ],
      "source": [
        "f2(1, 2, d=99, ext='a')"
      ]
    },
    {
      "cell_type": "code",
      "execution_count": null,
      "metadata": {
        "id": "UzvRXhZfqQJd"
      },
      "outputs": [],
      "source": [
        "def f1(a, b, c=0, *args, **kw):\n",
        "    print('a =', a, 'b =', b, 'c =', c, 'args =', args, 'kw =', kw)"
      ]
    },
    {
      "cell_type": "code",
      "execution_count": null,
      "metadata": {
        "id": "WLLlxDGMqQJd"
      },
      "outputs": [],
      "source": []
    },
    {
      "cell_type": "code",
      "execution_count": null,
      "metadata": {
        "id": "KL1XJiOEqQJd",
        "colab": {
          "base_uri": "https://localhost:8080/"
        },
        "outputId": "53415617-a988-45f3-a7f1-eb5f2a3dacf4"
      },
      "outputs": [
        {
          "output_type": "stream",
          "name": "stdout",
          "text": [
            "a = 1 b = 2 c = 3 args = (4, 6) kw = {'d': 99, 'x': '#'}\n"
          ]
        }
      ],
      "source": [
        "#The most amazing thing is that you can call the above-mentioned function through a tuple and a dictionary.\n",
        "args = (1, 2, 3, 4,6)\n",
        "kw = {'d': 99, 'x': '#'}\n",
        "f1(*args, **kw)"
      ]
    },
    {
      "cell_type": "code",
      "execution_count": null,
      "metadata": {
        "id": "QL50u4NzqQJe",
        "colab": {
          "base_uri": "https://localhost:8080/"
        },
        "outputId": "c2946243-0bf4-494c-967a-c7d5d01e25ba"
      },
      "outputs": [
        {
          "output_type": "stream",
          "name": "stdout",
          "text": [
            "a = 1 b = 2 c = 3 args = () kw = {'d': 88, 'x': '#'}\n"
          ]
        }
      ],
      "source": [
        "args = (1, 2, 3)\n",
        "kw = {'d': 88, 'x': '#'}\n",
        "f1(*args, **kw)"
      ]
    },
    {
      "cell_type": "markdown",
      "metadata": {
        "id": "08I_uBILqQJe"
      },
      "source": [
        "Therefore, you can call a function through the forms similar to \"func(*args, **kw)\", no matter how its arguments are defined."
      ]
    },
    {
      "cell_type": "markdown",
      "metadata": {
        "id": "7LSnC-OZqQJe"
      },
      "source": [
        "## Recursive function\n",
        "You need to prevent a stack overflow when you use a recursive function. Functions are called through the stack data structure in computers.   The stack will add a layer of stack frames when a function is called, while the stack will remove a layer of stack frames when a function is returned. As the size of a stack is limited, it will lead to a stack overflow if there are excessive numbers of recursive calling of functions.  \n",
        "Solution to a stack overflow: tail recursion optimization  \n",
        "You can use tail recursion optimization to solve a stack flow. As tail recursion enjoys the same effects with looping, you can take looping as a special tail recursion, which means to call itself when the function is returned and exclude expressions in the \"return\" statement. In this way, the compiler or interpreter can optimize tail recursion, making recursion occupying only one stack frame, no matter how many times the function is called. This eliminates the possibility of stack overflow.  \n",
        "For the fact(n) function, because a multiplication expression is introduced in return n * fact(n - 1), it is not tail recursion. To change it into tail recursion, more code is needed to transfer the product of each step into a recursive function.  "
      ]
    },
    {
      "cell_type": "code",
      "execution_count": null,
      "metadata": {
        "id": "ZSCP-4nLqQJf"
      },
      "outputs": [],
      "source": [
        "def fact(n):\n",
        "    return fact_iter(n, 1)\n",
        "\n",
        "def fact_iter(num, product):\n",
        "    if num == 1:\n",
        "        return product\n",
        "    return fact_iter(num - 1, num * product)"
      ]
    },
    {
      "cell_type": "code",
      "execution_count": null,
      "metadata": {
        "id": "BLkcoeX3qQJf"
      },
      "outputs": [],
      "source": [
        "def fact2(n): \n",
        "    f=1\n",
        "    for i in range(1,n+1):\n",
        "        f*=i\n",
        "        \n",
        "    return f\n",
        "    "
      ]
    },
    {
      "cell_type": "code",
      "execution_count": null,
      "metadata": {
        "id": "_AWuNFdJqQJf"
      },
      "outputs": [],
      "source": [
        "fact2(3)"
      ]
    },
    {
      "cell_type": "code",
      "execution_count": null,
      "metadata": {
        "id": "udu6WUP-qQJg"
      },
      "outputs": [],
      "source": [
        "def fact(n):\n",
        "    if n==1 :\n",
        "        return 1\n",
        "    else:\n",
        "        return n*fact(n-1)\n",
        "fact(5)"
      ]
    },
    {
      "cell_type": "code",
      "execution_count": null,
      "metadata": {
        "id": "yyD_yklKqQJg"
      },
      "outputs": [],
      "source": [
        "fact_iter(1,8)"
      ]
    },
    {
      "cell_type": "code",
      "execution_count": null,
      "metadata": {
        "id": "OJZdE93nqQJg"
      },
      "outputs": [],
      "source": [
        "fact_iter(2,3)"
      ]
    },
    {
      "cell_type": "markdown",
      "metadata": {
        "id": "WjtJBBdYqQJh"
      },
      "source": [
        "It can be learned that return fact_iter(num - 1, num * product) returns only the recursive function itself. num – 1 and num * product will be calculated before the function is called, without any impact on the function."
      ]
    },
    {
      "cell_type": "markdown",
      "metadata": {
        "id": "coaYhcdnqQJh"
      },
      "source": [
        "# Object-Oriented Programming\n",
        "This experiment mainly introduces related knowledge units about object-oriented programming in Python, and related operations.  \n",
        "As a programming idea, Object Oriented Programming (OOP) takes objects as the basic units of a program. An object includes data and functions that operate the data.  \n",
        "Process-oriented design (OOD) takes a program as a series of commands, which are a group of functions to be executed in order. To simplify program design, OOD cuts functions further into sub-functions. This reduces system complexity by cutting functions into sub-functions.\n",
        "OOP takes a program as a combination of objects, each of which can receive messages from other objects and process these messages. Execution of a computer program is to transfer a series of messages among different objects.\n",
        "In Python, all data types can be regarded as objects, and you can customize objects. The customized object data types are classes in object-orientation.  \n",
        "\tIntroduction to the object-oriented technology\n",
        "* Class: A class refers to the combination of objects that have the same attributes and methods. It defines the common attributes and methods of these objects in the combination. Objects are instances of classes.  \n",
        "* Class variable: Class variables are publicly used in the total instantiation, and they are defined within classes but beyond function bodies. Class variables are not used as instance variables.  \n",
        "* Data member: Class variables or instance variables process data related to classes and their instance objects.  \n",
        "* Method re-writing: If the methods inherited from parent classes do not meet the requirements of sub-classes, the methods can be re-written. Re-writing a method is also called overriding.  \n",
        "* Instance variable: Instance variables are defined in methods and are used only for the classes of current instances.  \n",
        "* Inheritance: Inheritance means that a derived class inherits the fields and methods from a base class, and it allows taking the objects of derived class as the objects of base classes. For example, a dog-class object drives from an animal-class object. This simulates a \"(is-a)\" relationship (in the figure, a dog is an animal).  \n",
        "* Instantiation: It refers to creating instances for a class or objects for a class.  \n",
        "* Methods: functions defined in classes.  \n",
        "* Objects: data structure objects defined through classes. Objects include two data members (class variable and instance variable), and methods.  "
      ]
    },
    {
      "cell_type": "markdown",
      "metadata": {
        "id": "eXIT-uw4qQJh"
      },
      "source": [
        "## Create and use a class\n",
        "Create a dog class.  \n",
        "Each instance created based on a dog class stores name and age. We will assign capabilities of sitting (sit  () ) and rolling over (roll_over () ) as follows:  "
      ]
    },
    {
      "cell_type": "code",
      "execution_count": null,
      "metadata": {
        "id": "Xm0hxkuDqQJh"
      },
      "outputs": [],
      "source": [
        "class Dog():\n",
        "\tdef __init__ (self,name1,age1):\n",
        "\t\t#\"\"\"Initializeattribute: name and age\"\"\"\n",
        "\t\tself.name = name1\n",
        "\t\tself.age = age1\n",
        "        #print('welcome')\n",
        "\tdef sit(self):\n",
        "\t\t\"\"\"Simulate sitting when a dog is ordered to do so\"\"\"\n",
        "\t\tprint(self.name.title()+\" is now sitting\")\n",
        "\tdef roll_over(self):\n",
        "\t\t\"\"\"Simulate rolling over when a dog is ordered to do so\"\"\"\n",
        "\t\tprint(self.name.title()+\" rolled over!\")"
      ]
    },
    {
      "cell_type": "code",
      "execution_count": null,
      "metadata": {
        "id": "PjeGmqgdqQJi",
        "colab": {
          "base_uri": "https://localhost:8080/"
        },
        "outputId": "a3f87ea4-9d9f-49c1-8828-18f9a8ee98e5"
      },
      "outputs": [
        {
          "output_type": "stream",
          "name": "stdout",
          "text": [
            "luci\n",
            "luci22 dog\n",
            "Luci22 Dog is now sitting\n"
          ]
        }
      ],
      "source": [
        "dog=Dog('luci',4)\n",
        "dog2=Dog('luci22 dog',7)\n",
        "#dog.init('luci',4)\n",
        "#dog2.init('luci22 dog',7)\n",
        "print(dog.name)\n",
        "print(dog2.name)\n",
        "dog2.sit()"
      ]
    },
    {
      "cell_type": "code",
      "execution_count": null,
      "metadata": {
        "id": "H8O6xQ3aqQJi"
      },
      "outputs": [],
      "source": [
        "class Dog:\n",
        "    def init(self):\n",
        "        print(\"welcome to dog class\")\n",
        "    def sit(self):\n",
        "        print(\"dog is sitting\")"
      ]
    },
    {
      "cell_type": "code",
      "execution_count": null,
      "metadata": {
        "id": "BBhQnt7bqQJi",
        "colab": {
          "base_uri": "https://localhost:8080/"
        },
        "outputId": "c12f666e-2846-43f0-b4d3-d288e1c8bad6"
      },
      "outputs": [
        {
          "output_type": "stream",
          "name": "stdout",
          "text": [
            "welcome to dog class\n"
          ]
        }
      ],
      "source": [
        "dog=Dog()\n",
        "dog.init()\n",
        "#dog.sit()\n",
        "#dog2=Dog()\n"
      ]
    },
    {
      "cell_type": "code",
      "execution_count": null,
      "metadata": {
        "id": "JtYgCksMqQJi",
        "colab": {
          "base_uri": "https://localhost:8080/",
          "height": 205
        },
        "outputId": "e4dee021-54ee-4fe9-9390-c05a45fcd512"
      },
      "outputs": [
        {
          "output_type": "stream",
          "name": "stdout",
          "text": [
            "dog is sitting\n"
          ]
        },
        {
          "output_type": "error",
          "ename": "AttributeError",
          "evalue": "ignored",
          "traceback": [
            "\u001b[0;31m---------------------------------------------------------------------------\u001b[0m",
            "\u001b[0;31mAttributeError\u001b[0m                            Traceback (most recent call last)",
            "\u001b[0;32m<ipython-input-5-c2dafb1af443>\u001b[0m in \u001b[0;36m<cell line: 2>\u001b[0;34m()\u001b[0m\n\u001b[1;32m      1\u001b[0m \u001b[0mdog\u001b[0m\u001b[0;34m.\u001b[0m\u001b[0msit\u001b[0m\u001b[0;34m(\u001b[0m\u001b[0;34m)\u001b[0m\u001b[0;34m\u001b[0m\u001b[0;34m\u001b[0m\u001b[0m\n\u001b[0;32m----> 2\u001b[0;31m \u001b[0mdog\u001b[0m\u001b[0;34m.\u001b[0m\u001b[0mroll_over\u001b[0m\u001b[0;34m(\u001b[0m\u001b[0;34m)\u001b[0m\u001b[0;34m\u001b[0m\u001b[0;34m\u001b[0m\u001b[0m\n\u001b[0m",
            "\u001b[0;31mAttributeError\u001b[0m: 'Dog' object has no attribute 'roll_over'"
          ]
        }
      ],
      "source": [
        "dog.sit()\n",
        "dog.roll_over()"
      ]
    },
    {
      "cell_type": "markdown",
      "metadata": {
        "id": "SR-lT7EpqQJi"
      },
      "source": [
        "## Access attributes\n",
        "Let us see a complete instance."
      ]
    },
    {
      "cell_type": "code",
      "execution_count": null,
      "metadata": {
        "id": "GenNNYy5qQJj"
      },
      "outputs": [],
      "source": [
        "class Employee():\n",
        "    'All employees base class'\n",
        "    empCount = 0\n",
        "    #def __init__(self):\n",
        "    #    print('employee object created')\n",
        "    def __init__(self, name, salary):\n",
        "        self.name = name\n",
        "        self.salary = salary\n",
        "        Employee.empCount += 1 \n",
        "        print(\"the employee \",self.name,\"is created\")\n",
        "    def displayCount(self):\n",
        "        print(\"Total Employee %d\" % Employee.empCount )\n",
        "    def displayEmployee(self):\n",
        "        print(\"Name : \", self.name,  \", Salary: \", self.salary)"
      ]
    },
    {
      "cell_type": "markdown",
      "metadata": {
        "id": "Cac8pndvqQJj"
      },
      "source": [
        "\"Create the first object of the employee class\""
      ]
    },
    {
      "cell_type": "code",
      "execution_count": null,
      "metadata": {
        "id": "NFyXX12wqQJj",
        "colab": {
          "base_uri": "https://localhost:8080/"
        },
        "outputId": "eca322d4-f24d-4198-da28-c2424cf460e5"
      },
      "outputs": [
        {
          "output_type": "stream",
          "name": "stdout",
          "text": [
            "the employee  ahmed is created\n",
            "Total Employee 1\n"
          ]
        }
      ],
      "source": [
        "emp2=Employee('ahmed',40000)\n",
        "emp2.displayCount()"
      ]
    },
    {
      "cell_type": "code",
      "execution_count": null,
      "metadata": {
        "id": "0-Pg-VNAqQJj",
        "colab": {
          "base_uri": "https://localhost:8080/"
        },
        "outputId": "59c81872-c1c1-471d-aad1-94e42e0d7ab7"
      },
      "outputs": [
        {
          "output_type": "stream",
          "name": "stdout",
          "text": [
            "the employee  ali is created\n",
            "Total Employee 4\n"
          ]
        }
      ],
      "source": [
        "emp1 = Employee('ali',5000)\n",
        "emp1.displayCount()"
      ]
    },
    {
      "cell_type": "markdown",
      "metadata": {
        "id": "7278P2YRqQJk"
      },
      "source": [
        "\"Create the second object of the employee class\""
      ]
    },
    {
      "cell_type": "code",
      "execution_count": null,
      "metadata": {
        "scrolled": true,
        "id": "cX3qzDsbqQJk",
        "colab": {
          "base_uri": "https://localhost:8080/"
        },
        "outputId": "8e123038-2917-4805-a905-cdb925ba20bd"
      },
      "outputs": [
        {
          "output_type": "stream",
          "name": "stdout",
          "text": [
            "the employee  Manni is created\n",
            "the employee  Alibaba is created\n",
            "Name :  ali , Salary:  5000\n",
            "Name :  Manni , Salary:  5000\n",
            "Name :  Alibaba , Salary:  330\n",
            "Total Employee 6\n"
          ]
        }
      ],
      "source": [
        "emp2 = Employee(\"Manni\", 5000)\n",
        "emp3 = Employee(\"Alibaba\", 330)\n",
        "emp1.displayEmployee()\n",
        "emp2.displayEmployee()\n",
        "emp3.displayEmployee()\n",
        "print(\"Total Employee %d\" % Employee.empCount)"
      ]
    },
    {
      "cell_type": "markdown",
      "metadata": {
        "id": "nvWrnnwJqQJk"
      },
      "source": [
        "## Class inheritance\n",
        "The major benefit of oriented-object programming is reuse of code. One way to reuse code is the inheritance mechanism. Inheritance can be taken as setting relationships of parent classes and child classes between classes.  \n",
        "Some features of class inheritance in Python.  \n",
        "\tThe construction (_init_() method) of the base class will be not auto-called, and it has to be specially called in the construction of its derived classes.  \n",
        "\tClass prefixes and self argument variables have to be added to the base class when its methods are called. The self argument is not required when regular functions in classes are called.  \n",
        "\tPython always loops up the methods of the corresponding classes, and checks the base class one method by one method only if the methods are not found in the derived classes. (That is, Python searches for the calling method in this class first and then in the base class).  \n",
        "\tIf an inheritance type lists more than one class, this inheritance is called multi-inheritance.  \n",
        "\n",
        "   "
      ]
    },
    {
      "cell_type": "code",
      "execution_count": null,
      "metadata": {
        "id": "WN0hVx65qQJk"
      },
      "outputs": [],
      "source": [
        "class Parent():        # Define the parent class   \n",
        "    parentAttr = 100\n",
        "    def __init__(self):\n",
        "        print(\"Call parent class construction method\")\n",
        "    def parentMethod(self):\n",
        "        print('Call parent class method')\n",
        "    def setAttr(self, attr):\n",
        "        Parent.parentAttr = attr\n",
        "    def getAttr(self):\n",
        "        print(\"Parent class attribute\", Parent.parentAttr)"
      ]
    },
    {
      "cell_type": "code",
      "execution_count": null,
      "metadata": {
        "id": "cwlTpoCLqQJk"
      },
      "outputs": [],
      "source": [
        "class Child(Parent): # Define a sub-class\n",
        "    def __init__(self):\n",
        "        print(\"Call sub-class construction method\")\n",
        "    def childMethod(self):\n",
        "        print('Call sub-class method')"
      ]
    },
    {
      "cell_type": "code",
      "execution_count": null,
      "metadata": {
        "id": "cZfFbuMDqQJl",
        "colab": {
          "base_uri": "https://localhost:8080/"
        },
        "outputId": "0b637cc6-66dd-4c63-d22a-02f12084476a"
      },
      "outputs": [
        {
          "output_type": "stream",
          "name": "stdout",
          "text": [
            "Call sub-class construction method\n"
          ]
        }
      ],
      "source": [
        "c = Child()          # Instantiate sub-class\n",
        "          # Re-call parent class method - get attributes"
      ]
    },
    {
      "cell_type": "code",
      "execution_count": null,
      "metadata": {
        "id": "yoCLWvdjqQJl",
        "colab": {
          "base_uri": "https://localhost:8080/"
        },
        "outputId": "09561bce-8ae9-4248-a45a-43119940df0b"
      },
      "outputs": [
        {
          "output_type": "stream",
          "name": "stdout",
          "text": [
            "Call sub-class method\n"
          ]
        }
      ],
      "source": [
        "c.childMethod()      # Call sub-class method\n"
      ]
    },
    {
      "cell_type": "code",
      "execution_count": null,
      "metadata": {
        "id": "QCNcmu3gqQJl",
        "colab": {
          "base_uri": "https://localhost:8080/"
        },
        "outputId": "811bd3fe-1868-4b31-b05b-3965d072e544"
      },
      "outputs": [
        {
          "output_type": "stream",
          "name": "stdout",
          "text": [
            "Call parent class method\n"
          ]
        }
      ],
      "source": [
        "c.parentMethod()     # Call parent class method\n"
      ]
    },
    {
      "cell_type": "code",
      "execution_count": null,
      "metadata": {
        "id": "DOVSmzVUqQJm",
        "colab": {
          "base_uri": "https://localhost:8080/"
        },
        "outputId": "d836291b-406b-454f-df78-e3982fe3280d"
      },
      "outputs": [
        {
          "output_type": "stream",
          "name": "stdout",
          "text": [
            "Parent class attribute 200\n"
          ]
        }
      ],
      "source": [
        "c.setAttr(200)       # Re-call parent class method - set attributes\n",
        "c.getAttr()"
      ]
    },
    {
      "cell_type": "markdown",
      "metadata": {
        "id": "FBUaIY_WqQJm"
      },
      "source": [
        "## Class attributes and methods\n",
        "\tPrivate attributes of classes:  \n",
        "* __private_attrs: It starts with two underlines to indicate a private attribute, which cannot be used outside a class or directly accessed. When it is used inside a class method, follow the form of self.__private_attrs.\n",
        "\tMethod of class  \n",
        "Inside a class, the def keyword can be used to define a method; unlike a regular function, a class method must include the self argument, which has to be the first argument.\n",
        "\tPrivate method  \n",
        "* __private_method: It starts with two underlines to indicate a private method, which cannot be used outside a class. When it is used inside a class, follow the form of self.__private_methods."
      ]
    },
    {
      "cell_type": "code",
      "execution_count": null,
      "metadata": {
        "id": "IoA1Y4bgqQJm"
      },
      "outputs": [],
      "source": [
        "class JustCounter():  \n",
        "    __secretCount = 0  # Private variable\n",
        "    publicCount = 0    # Public variable\n",
        "    def count(self):\n",
        "        self.__secretCount += 1\n",
        "        self.publicCount += 1\n",
        "        print(self.__secretCount)\n",
        "    def display(self):\n",
        "        print(\"the value of secret variable\",self.__secretCount)"
      ]
    },
    {
      "cell_type": "code",
      "execution_count": null,
      "metadata": {
        "id": "3Gfsq83zqQJn",
        "colab": {
          "base_uri": "https://localhost:8080/"
        },
        "outputId": "b97fcb1e-3b53-43a2-db29-2ea4f8cce488"
      },
      "outputs": [
        {
          "output_type": "stream",
          "name": "stdout",
          "text": [
            "1\n",
            "2\n"
          ]
        }
      ],
      "source": [
        "counter = JustCounter()\n",
        "counter.count()\n",
        "counter.count()\n",
        "  # Error. Instance cannot access private variable"
      ]
    },
    {
      "cell_type": "code",
      "execution_count": null,
      "metadata": {
        "id": "Ogl_ehwpqQJn",
        "colab": {
          "base_uri": "https://localhost:8080/"
        },
        "outputId": "7fb373f1-55e4-4882-d375-e24cb5b3e4dd"
      },
      "outputs": [
        {
          "output_type": "stream",
          "name": "stdout",
          "text": [
            "the value of secret variable 2\n"
          ]
        }
      ],
      "source": [
        "counter.display()\n"
      ]
    },
    {
      "cell_type": "code",
      "execution_count": null,
      "metadata": {
        "id": "UVIKNTk0qQJn"
      },
      "outputs": [],
      "source": [
        "print(counter.__secretCount)"
      ]
    },
    {
      "cell_type": "code",
      "execution_count": null,
      "metadata": {
        "id": "x8X89ktVqQJn"
      },
      "outputs": [],
      "source": [
        "print(counter.publicCount)\n"
      ]
    },
    {
      "cell_type": "markdown",
      "metadata": {
        "id": "xAS3gOpsqQJo"
      },
      "source": [
        "## Date and Time\n",
        "This experiment mainly introduces related knowledge units about date and time in Python, and related operations on them.   \n",
        "How to process date and time is a typical problem for Python. Python provides the time and calendar modules to format date and time.  \n",
        "Time spacing is floating numbers with seconds as the unit. Each time stamp is expressed as the time that has passed since the midnight of January 1st 1970.  \n",
        "mThe time module of Python has many functions to convert common date formats.    "
      ]
    },
    {
      "cell_type": "code",
      "execution_count": null,
      "metadata": {
        "id": "GweEcF9AqQJo"
      },
      "outputs": [],
      "source": [
        "## Get the current time"
      ]
    },
    {
      "cell_type": "code",
      "execution_count": null,
      "metadata": {
        "id": "y7uWgNTFqQJo",
        "colab": {
          "base_uri": "https://localhost:8080/"
        },
        "outputId": "67be29e9-2b1a-4631-cdc8-fb816d11a372"
      },
      "outputs": [
        {
          "output_type": "stream",
          "name": "stdout",
          "text": [
            "Local time: time.struct_time(tm_year=2023, tm_mon=5, tm_mday=26, tm_hour=13, tm_min=22, tm_sec=53, tm_wday=4, tm_yday=146, tm_isdst=0)\n"
          ]
        }
      ],
      "source": [
        "import time\n",
        "localtime = time.localtime(time.time())\n",
        "print(\"Local time:\", localtime)"
      ]
    },
    {
      "cell_type": "markdown",
      "metadata": {
        "id": "KOhhgFh-qQJp"
      },
      "source": [
        "## Get the formatted time\n",
        "You can choose various formats as required, but the simplest function to get the readable time mode is asctime():"
      ]
    },
    {
      "cell_type": "code",
      "execution_count": null,
      "metadata": {
        "id": "11sRodk6qQJq",
        "colab": {
          "base_uri": "https://localhost:8080/"
        },
        "outputId": "478f0051-fdcc-4e7b-cc89-3f70ce54a976"
      },
      "outputs": [
        {
          "output_type": "stream",
          "name": "stdout",
          "text": [
            "Local time : Fri May 26 13:25:51 2023\n"
          ]
        }
      ],
      "source": [
        "import time\n",
        "localtime = time.asctime( time.localtime(time.time()) )\n",
        "print(\"Local time :\", localtime)"
      ]
    },
    {
      "cell_type": "code",
      "execution_count": null,
      "metadata": {
        "id": "4mQxi-RgqQJq"
      },
      "outputs": [],
      "source": [
        "## Format date"
      ]
    },
    {
      "cell_type": "code",
      "execution_count": null,
      "metadata": {
        "id": "aIHF7DtPqQJr",
        "colab": {
          "base_uri": "https://localhost:8080/"
        },
        "outputId": "8cda7635-25e2-4e24-e5aa-2fa79cb422d2"
      },
      "outputs": [
        {
          "output_type": "stream",
          "name": "stdout",
          "text": [
            "2023-05-14 11:46:52\n"
          ]
        }
      ],
      "source": [
        "import time\n",
        "# Format into 2016-03-20 11:45:39\n",
        "print(time.strftime(\"%Y-%m-%d %H:%M:%S\", time.localtime()))"
      ]
    },
    {
      "cell_type": "code",
      "execution_count": null,
      "metadata": {
        "id": "zeTjZDKkqQJr"
      },
      "outputs": [],
      "source": [
        "# Format into Sun May 14 22:24:24 2023\n",
        "print(time.strftime(\"%a %b %d %H:%M:%S %Y\", time.localtime()))"
      ]
    },
    {
      "cell_type": "code",
      "execution_count": null,
      "metadata": {
        "id": "T_Cs_dEaqQJr"
      },
      "outputs": [],
      "source": [
        "# Turn format string into timestamp\n",
        "a = \"Sat Mar 28 22:24:24 2016\"\n",
        "print(time.mktime(time.strptime(a,\"%a %b %d %H:%M:%S %Y\")))"
      ]
    },
    {
      "cell_type": "markdown",
      "metadata": {
        "id": "ou0THXsWqQJs"
      },
      "source": [
        "## Get calendar of a month\n",
        "The calendar module can process yearly calendars and monthly calendars using multiple methods, for example, printing a monthly calendar."
      ]
    },
    {
      "cell_type": "code",
      "execution_count": 4,
      "metadata": {
        "id": "t5Hq-dwGqQJs",
        "colab": {
          "base_uri": "https://localhost:8080/"
        },
        "outputId": "95d2638b-3281-43e6-91b6-ccdf9bbd7338"
      },
      "outputs": [
        {
          "output_type": "stream",
          "name": "stdout",
          "text": [
            "output calendar of January 2019:\n",
            "     June 2020\n",
            "Mo Tu We Th Fr Sa Su\n",
            " 1  2  3  4  5  6  7\n",
            " 8  9 10 11 12 13 14\n",
            "15 16 17 18 19 20 21\n",
            "22 23 24 25 26 27 28\n",
            "29 30\n",
            "\n"
          ]
        }
      ],
      "source": [
        "import calendar\n",
        "cal = calendar.month(2020, 6)\n",
        "print(\"output calendar of January 2019:\")\n",
        "print(cal)"
      ]
    },
    {
      "cell_type": "code",
      "execution_count": 5,
      "metadata": {
        "id": "nRuEXCKfqQJs",
        "colab": {
          "base_uri": "https://localhost:8080/"
        },
        "outputId": "4631280b-c52e-4c23-da37-975bb052b0ea"
      },
      "outputs": [
        {
          "output_type": "stream",
          "name": "stdout",
          "text": [
            "                                  2020\n",
            "\n",
            "      January                   February                   March\n",
            "Mo Tu We Th Fr Sa Su      Mo Tu We Th Fr Sa Su      Mo Tu We Th Fr Sa Su\n",
            "       1  2  3  4  5                      1  2                         1\n",
            " 6  7  8  9 10 11 12       3  4  5  6  7  8  9       2  3  4  5  6  7  8\n",
            "13 14 15 16 17 18 19      10 11 12 13 14 15 16       9 10 11 12 13 14 15\n",
            "20 21 22 23 24 25 26      17 18 19 20 21 22 23      16 17 18 19 20 21 22\n",
            "27 28 29 30 31            24 25 26 27 28 29         23 24 25 26 27 28 29\n",
            "                                                    30 31\n",
            "\n",
            "       April                      May                       June\n",
            "Mo Tu We Th Fr Sa Su      Mo Tu We Th Fr Sa Su      Mo Tu We Th Fr Sa Su\n",
            "       1  2  3  4  5                   1  2  3       1  2  3  4  5  6  7\n",
            " 6  7  8  9 10 11 12       4  5  6  7  8  9 10       8  9 10 11 12 13 14\n",
            "13 14 15 16 17 18 19      11 12 13 14 15 16 17      15 16 17 18 19 20 21\n",
            "20 21 22 23 24 25 26      18 19 20 21 22 23 24      22 23 24 25 26 27 28\n",
            "27 28 29 30               25 26 27 28 29 30 31      29 30\n",
            "\n",
            "        July                     August                  September\n",
            "Mo Tu We Th Fr Sa Su      Mo Tu We Th Fr Sa Su      Mo Tu We Th Fr Sa Su\n",
            "       1  2  3  4  5                      1  2          1  2  3  4  5  6\n",
            " 6  7  8  9 10 11 12       3  4  5  6  7  8  9       7  8  9 10 11 12 13\n",
            "13 14 15 16 17 18 19      10 11 12 13 14 15 16      14 15 16 17 18 19 20\n",
            "20 21 22 23 24 25 26      17 18 19 20 21 22 23      21 22 23 24 25 26 27\n",
            "27 28 29 30 31            24 25 26 27 28 29 30      28 29 30\n",
            "                          31\n",
            "\n",
            "      October                   November                  December\n",
            "Mo Tu We Th Fr Sa Su      Mo Tu We Th Fr Sa Su      Mo Tu We Th Fr Sa Su\n",
            "          1  2  3  4                         1          1  2  3  4  5  6\n",
            " 5  6  7  8  9 10 11       2  3  4  5  6  7  8       7  8  9 10 11 12 13\n",
            "12 13 14 15 16 17 18       9 10 11 12 13 14 15      14 15 16 17 18 19 20\n",
            "19 20 21 22 23 24 25      16 17 18 19 20 21 22      21 22 23 24 25 26 27\n",
            "26 27 28 29 30 31         23 24 25 26 27 28 29      28 29 30 31\n",
            "                          30\n"
          ]
        }
      ],
      "source": [
        "calendar.prcal(2020)"
      ]
    },
    {
      "cell_type": "markdown",
      "metadata": {
        "id": "i9R4vYB7qQJt"
      },
      "source": [
        "## re.match function\n",
        "re.match tries to match a mode from the string start position. If no mode is matched from the string start, match() returns none.\n",
        "Function syntax:  \n",
        "re.match(pattern, string, flags=0)  \n",
        "Instance:  "
      ]
    },
    {
      "cell_type": "code",
      "execution_count": 13,
      "metadata": {
        "id": "59RewL7TqQJt",
        "colab": {
          "base_uri": "https://localhost:8080/"
        },
        "outputId": "c3e497b6-a2b1-438d-a2fa-82e512064cb8"
      },
      "outputs": [
        {
          "output_type": "stream",
          "name": "stdout",
          "text": [
            "None\n"
          ]
        }
      ],
      "source": [
        "import re\n",
        "print(re.match('com', 'www.runoob.net'))  # Match at start\n"
      ]
    },
    {
      "cell_type": "code",
      "execution_count": 14,
      "metadata": {
        "id": "TTDyzd96qQJt",
        "colab": {
          "base_uri": "https://localhost:8080/"
        },
        "outputId": "f51f7fff-3f60-4233-f296-9e661831977f"
      },
      "outputs": [
        {
          "output_type": "stream",
          "name": "stdout",
          "text": [
            "<re.Match object; span=(11, 14), match='com'>\n"
          ]
        }
      ],
      "source": [
        "print(re.search('com', 'www.runoob.com'))        \t# Match not at start"
      ]
    },
    {
      "cell_type": "markdown",
      "metadata": {
        "id": "o7TnJU6LqQJt"
      },
      "source": [
        "## Differences between re.match and re.search\n",
        "re.match matches the string start. If the string start does not agree with the regular expression, the matching fails and the function returns none. re.search matches the entire string until finding a match."
      ]
    },
    {
      "cell_type": "code",
      "execution_count": 9,
      "metadata": {
        "id": "lMFCpWBdqQJu",
        "colab": {
          "base_uri": "https://localhost:8080/"
        },
        "outputId": "6e134cfb-25cb-466e-dc58-6ae2aaff2db2"
      },
      "outputs": [
        {
          "output_type": "stream",
          "name": "stdout",
          "text": [
            "No match!!\n"
          ]
        }
      ],
      "source": [
        "import re\n",
        "line = \"Cats are smarter than dogs\";\n",
        "matchObj = re.match( r'dogs', line, re.M|re.I)\n",
        "if matchObj:\n",
        "    print(\"match --> matchObj.group() : \", matchObj.group())\n",
        "else:\n",
        "    print(\"No match!!\")"
      ]
    },
    {
      "cell_type": "code",
      "execution_count": null,
      "metadata": {
        "id": "06c2gJwyqQJu"
      },
      "outputs": [],
      "source": [
        "matchObj = re.search( r'dogs', line, re.M|re.I)\n",
        "if matchObj:\n",
        "    print(\"search --> matchObj.group() : \", matchObj.group())\n",
        "else:\n",
        "    print(\"No match!!\")"
      ]
    },
    {
      "cell_type": "markdown",
      "metadata": {
        "id": "lCioNsNrqQJu"
      },
      "source": [
        "# File Manipulation\n",
        "This experiment mainly introduces related knowledge units about file manipulation in Python, and related operations.  \n",
        "File manipulation is essential to programming languages, as information technologies would be meaningless if data cannot be stored permanently. This chapter introduces common file manipulation in Python.  "
      ]
    },
    {
      "cell_type": "markdown",
      "metadata": {
        "id": "_vVqhrc9qQJu"
      },
      "source": [
        "## Read keyboard input\n",
        "Python provides two build-in functions to read a text line from the standard input, which a keyboard by default. The function is input function."
      ]
    },
    {
      "cell_type": "markdown",
      "metadata": {
        "id": "ppvFyU33qQJv"
      },
      "source": [
        "## input( ) function:\n",
        "The input([prompt])  can receive a Python expression as the input and return the result."
      ]
    },
    {
      "cell_type": "code",
      "execution_count": null,
      "metadata": {
        "id": "8PQmOxaiqQJv"
      },
      "outputs": [],
      "source": [
        "str = input(\"Please input:\")\n",
        "print(\"Your input is: \", str)"
      ]
    },
    {
      "cell_type": "markdown",
      "metadata": {
        "id": "a2fmxemFqQJv"
      },
      "source": [
        "## Open and close files\n",
        "Python provides essential functions and methods to manipulate files by default. You can use the file object to do most file manipulations.\n",
        "Open() function: You should open a file using the Python build-in open() function, and create a file object, so that the related methods can call it to write and read."
      ]
    },
    {
      "cell_type": "code",
      "execution_count": null,
      "metadata": {
        "id": "tsD8sBpXqQJv"
      },
      "outputs": [],
      "source": [
        "# Open a file\n",
        "fo = open(\"foo.txt\", \"w\")\n",
        "print(\"File name: \", fo.name)\n",
        "print(\"closed or not: \", fo.closed)\n",
        "print(\"access mode:\", fo.mode)\n",
        "fo.close()\n",
        "print(\"closed or not: \", fo.closed)\n"
      ]
    },
    {
      "cell_type": "code",
      "execution_count": null,
      "metadata": {
        "id": "I75R46UcqQJw"
      },
      "outputs": [],
      "source": [
        "# Open a file\n",
        "fo = open(\"foo.txt\", \"w\")\n",
        "print(\"File name: \", fo.name)"
      ]
    },
    {
      "cell_type": "code",
      "execution_count": null,
      "metadata": {
        "id": "MIDT_v-WqQJw"
      },
      "outputs": [],
      "source": [
        "# Close the opened file\n",
        "fo.close()"
      ]
    },
    {
      "cell_type": "markdown",
      "metadata": {
        "id": "XznE0uWkqQJw"
      },
      "source": [
        "## Write a file\n",
        "write() function: It writes any string into an opened file. Note that Python strings can be binary data, not just texts. This function will not add a line feed ('\\n') at string ends."
      ]
    },
    {
      "cell_type": "code",
      "execution_count": null,
      "metadata": {
        "id": "ceNgeCd6qQJx"
      },
      "outputs": [],
      "source": [
        "# Open a file\n",
        "fo = open(\"foo.txt\", \"w\")\n",
        "fo.write( \"www.baidu.com!\\nVery good site!\\n\")\n",
        "# Close an opened file\n",
        "fo.close()\n",
        "#The function above creates a foo.txt file, writes the received content into this file, and closes the file. If you open this file, you will see:\n",
        "#www.baidu.com!\n",
        "#Very good site!"
      ]
    },
    {
      "cell_type": "markdown",
      "metadata": {
        "id": "FSRRI8p2qQJx"
      },
      "source": [
        "## Read a file\n",
        "Read() function: It reads strings from an opened file. Note that Python strings can be binary data, not just texts."
      ]
    },
    {
      "cell_type": "code",
      "execution_count": null,
      "metadata": {
        "id": "iZFzGPuyqQJx"
      },
      "outputs": [],
      "source": [
        "# Open a file\n",
        "fo = open(\"foo.txt\", \"r+\")\n",
        "str = fo.read()\n",
        "print(\"The read string is: \", str)\n",
        "\n",
        "fo.write(\"welcome to python\")\n",
        "str = fo.read()\n",
        "print(\"The read string is: \", str)"
      ]
    },
    {
      "cell_type": "code",
      "execution_count": null,
      "metadata": {
        "id": "mI8tqCiPqQJy"
      },
      "outputs": [],
      "source": [
        "# Close an opened file\n",
        "fo.close()"
      ]
    },
    {
      "cell_type": "markdown",
      "metadata": {
        "id": "OF_ax3YbqQJy"
      },
      "source": [
        "## Rename a file\n",
        "The os module of Python provides a method to execute file processing operations, like renaming and deleting files. To use this module, you have to import it first and then call various functions.\n",
        "rename(): It requires two arguments: current file name and new file name.\n",
        "Function syntax:\n",
        "os.rename(current_file_name, new_file_name)"
      ]
    },
    {
      "cell_type": "code",
      "execution_count": null,
      "metadata": {
        "id": "CllxfHMtqQJy"
      },
      "outputs": [],
      "source": [
        "import os\n",
        "# Rename file test1.txt to test2.txt\n",
        "os.rename( \"foo.txt\", \"test2.txt\" )"
      ]
    },
    {
      "cell_type": "code",
      "execution_count": null,
      "metadata": {
        "id": "cEbncJ5tqQJy"
      },
      "outputs": [],
      "source": [
        "# Open a file\n",
        "fo = open(\"foo.txt\", \"r+\")\n",
        "str = fo.read(10)\n",
        "print(\"The read string is: \", str)\n",
        "fo.close()"
      ]
    },
    {
      "cell_type": "markdown",
      "metadata": {
        "id": "zKYCq68ZqQJz"
      },
      "source": [
        "## Delete a file\n",
        "You can use the remove() method to delete a file, using the name of file to be deleted as an argument.\n",
        "Function syntax:\n",
        "`os.remove(file_name)"
      ]
    },
    {
      "cell_type": "code",
      "execution_count": null,
      "metadata": {
        "id": "_ksFYNDEqQJz"
      },
      "outputs": [],
      "source": [
        "import os\n",
        "# Delete the existing file test2\n",
        "os.remove(\"test2.txt\")"
      ]
    },
    {
      "cell_type": "code",
      "execution_count": null,
      "metadata": {
        "id": "Jf9fyxAUqQJz"
      },
      "outputs": [],
      "source": [
        "open(\"test2.txt\")"
      ]
    },
    {
      "cell_type": "code",
      "execution_count": null,
      "metadata": {
        "id": "0kobPcBkqQJz"
      },
      "outputs": [],
      "source": [
        "import tensorflow as tf"
      ]
    },
    {
      "cell_type": "code",
      "execution_count": null,
      "metadata": {
        "id": "SL4Gt-egqQJ0"
      },
      "outputs": [],
      "source": [
        "import tensorflow as tf \n",
        "a=tf.constant(5)\n",
        "b=tf.constant(6)\n",
        "s=tf.Session()\n",
        "d=s.run(a)\n",
        "d\n",
        "1.12\n",
        "1.13\n",
        "1.14\n",
        "'..'\n",
        "1.18"
      ]
    },
    {
      "cell_type": "code",
      "execution_count": null,
      "metadata": {
        "id": "Ox921L7eqQJ0"
      },
      "outputs": [],
      "source": [
        "conda install tensorflow==1.12\n"
      ]
    },
    {
      "cell_type": "code",
      "execution_count": null,
      "metadata": {
        "id": "O_JdjN2ZqQJ0"
      },
      "outputs": [],
      "source": [
        "\n",
        "import keras"
      ]
    },
    {
      "cell_type": "code",
      "execution_count": null,
      "metadata": {
        "id": "0d1nrZSMqQJ0"
      },
      "outputs": [],
      "source": [
        "s.run(a+b)"
      ]
    }
  ],
  "metadata": {
    "kernelspec": {
      "display_name": "Python 3",
      "language": "python",
      "name": "python3"
    },
    "language_info": {
      "codemirror_mode": {
        "name": "ipython",
        "version": 3
      },
      "file_extension": ".py",
      "mimetype": "text/x-python",
      "name": "python",
      "nbconvert_exporter": "python",
      "pygments_lexer": "ipython3",
      "version": "3.7.4"
    },
    "colab": {
      "provenance": []
    },
    "accelerator": "TPU",
    "gpuClass": "standard"
  },
  "nbformat": 4,
  "nbformat_minor": 0
}